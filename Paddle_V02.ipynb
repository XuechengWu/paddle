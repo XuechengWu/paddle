{
  "nbformat": 4,
  "nbformat_minor": 0,
  "metadata": {
    "colab": {
      "provenance": [],
      "collapsed_sections": [
        "HEOTTkUWQByE",
        "Njcvm6sP22g-",
        "rMsKQUa_330U",
        "dvWWM8JR-wUT",
        "I61S1tGAODl1",
        "wNmpX-eQdozD",
        "YJz9Np1FgwhO"
      ],
      "mount_file_id": "1o5YjwBVYpCVaNYE1HVaZQ373VITOfOCj",
      "authorship_tag": "ABX9TyPjSldLSC7DtzzY8FDRjfwW",
      "include_colab_link": true
    },
    "kernelspec": {
      "name": "python3",
      "display_name": "Python 3"
    },
    "language_info": {
      "name": "python"
    },
    "accelerator": "GPU"
  },
  "cells": [
    {
      "cell_type": "markdown",
      "metadata": {
        "id": "view-in-github",
        "colab_type": "text"
      },
      "source": [
        "<a href=\"https://colab.research.google.com/github/XuechengWu/paddle/blob/main/Paddle_V02.ipynb\" target=\"_parent\"><img src=\"https://colab.research.google.com/assets/colab-badge.svg\" alt=\"Open In Colab\"/></a>"
      ]
    },
    {
      "cell_type": "markdown",
      "source": [
        "# File Function\n",
        "mycopyfile(需要复制移动的文件, 目的地址)\n",
        "\n",
        "zipDir(目标文件夹路径, 压缩文件保存路径+xxxx.zip)\n",
        "\n",
        "copy_allfiles(原文件夹, 目标文件夹)\n",
        "\n",
        "delete_space(目标所在的文件夹)\n",
        "\n",
        "os.remove(path)   #删除文件\n",
        "\n",
        "os.removedirs(path)   #删除空文件夹\n",
        "\n",
        "shutil.rmtree(path)    #递归删除文件夹"
      ],
      "metadata": {
        "id": "HEOTTkUWQByE"
      }
    },
    {
      "cell_type": "code",
      "source": [
        "import os\n",
        "import shutil\n",
        "import zipfile\n",
        "\n",
        "# srcfile 需要复制、移动的文件   \n",
        "# dstpath 目的地址\n",
        " \n",
        "def mycopyfile(srcfile,dstpath):                       # 复制函数\n",
        "    if not os.path.isfile(srcfile):\n",
        "        print (\"%s not exist!\"%(srcfile))\n",
        "    else:\n",
        "        fpath,fname=os.path.split(srcfile)             # 分离文件名和路径\n",
        "        if not os.path.exists(dstpath):\n",
        "            os.makedirs(dstpath)                       # 创建路径\n",
        "        shutil.copy(srcfile, dstpath + fname)          # 复制文件\n",
        "        print (\"copy %s -> %s\"%(srcfile, dstpath + fname))\n",
        " \n",
        " \n",
        "# src_dir = './'\n",
        "\n",
        "def zipDir(dirpath, outFullName):\n",
        "    \"\"\"\n",
        "    压缩指定文件夹\n",
        "    :param dirpath: 目标文件夹路径\n",
        "    :param outFullName: 压缩文件保存路径+xxxx.zip\n",
        "    :return: 无\n",
        "    \"\"\"\n",
        "    zip = zipfile.ZipFile(outFullName, \"w\", zipfile.ZIP_DEFLATED)\n",
        "    for path, dirnames, filenames in os.walk(dirpath):\n",
        "        # 去掉目标跟路径，只对目标文件夹下边的文件及文件夹进行压缩\n",
        "        fpath = path.replace(dirpath, '')\n",
        " \n",
        "        for filename in filenames:\n",
        "            zip.write(os.path.join(path, filename), os.path.join(fpath, filename))\n",
        "    zip.close()\n",
        "    \n",
        "    \n",
        "def copy_allfiles(src,dest):\n",
        "#src:原文件夹；dest:目标文件夹\n",
        "  src_files = os.listdir(src)\n",
        "  for file_name in src_files:\n",
        "    full_file_name = os.path.join(src, file_name)\n",
        "    if os.path.isfile(full_file_name):\n",
        "        shutil.copy(full_file_name, dest)\n",
        "\n",
        "def delete_space(buff_dir):\n",
        "#buff_dir:目标所在的文件夹\n",
        "    for files_name in os.listdir(buff_dir):\n",
        "        if len(files_name.split(\" \")) >1:\n",
        "            os.rename(os.path.join(buff_dir,files_name),\n",
        "                      os.path.join(buff_dir,files_name.replace(\" \",\"_\")))\n",
        "            print(os.path.join(buff_dir,files_name.replace(\" \",\"_\")))\n"
      ],
      "metadata": {
        "id": "NuerY3UhQGUE"
      },
      "execution_count": 1,
      "outputs": []
    },
    {
      "cell_type": "markdown",
      "source": [
        "# Install"
      ],
      "metadata": {
        "id": "Njcvm6sP22g-"
      }
    },
    {
      "cell_type": "code",
      "execution_count": 2,
      "metadata": {
        "colab": {
          "base_uri": "https://localhost:8080/"
        },
        "id": "EmbNAToI0ugH",
        "outputId": "eeb6190b-0d23-48c9-9a29-b6c368cf8324"
      },
      "outputs": [
        {
          "output_type": "stream",
          "name": "stdout",
          "text": [
            "Looking in indexes: https://mirror.baidu.com/pypi/simple, https://us-python.pkg.dev/colab-wheels/public/simple/\n",
            "Collecting paddlepaddle-gpu==2.3.2\n",
            "  Downloading https://mirror.baidu.com/pypi/packages/cd/21/ab9c6a282615021e3099092a04077d6db66b5ae5756d9765e9bd62c0c54b/paddlepaddle_gpu-2.3.2-cp37-cp37m-manylinux1_x86_64.whl (394.0 MB)\n",
            "\u001b[K     |████████████████████████████████| 394.0 MB 24 kB/s \n",
            "\u001b[?25hCollecting paddle-bfloat==0.1.7\n",
            "  Downloading https://mirror.baidu.com/pypi/packages/82/61/dc218060cf0b2c6e6206c0b3961dc1b045e1761ac2af62f86669e8e19eda/paddle_bfloat-0.1.7-cp37-cp37m-manylinux_2_17_x86_64.manylinux2014_x86_64.whl (394 kB)\n",
            "\u001b[K     |████████████████████████████████| 394 kB 20.4 MB/s \n",
            "\u001b[?25hRequirement already satisfied: decorator in /usr/local/lib/python3.7/dist-packages (from paddlepaddle-gpu==2.3.2) (4.4.2)\n",
            "Requirement already satisfied: six in /usr/local/lib/python3.7/dist-packages (from paddlepaddle-gpu==2.3.2) (1.15.0)\n",
            "Requirement already satisfied: opt-einsum==3.3.0 in /usr/local/lib/python3.7/dist-packages (from paddlepaddle-gpu==2.3.2) (3.3.0)\n",
            "Requirement already satisfied: numpy>=1.13 in /usr/local/lib/python3.7/dist-packages (from paddlepaddle-gpu==2.3.2) (1.21.6)\n",
            "Requirement already satisfied: protobuf<=3.20.0,>=3.1.0 in /usr/local/lib/python3.7/dist-packages (from paddlepaddle-gpu==2.3.2) (3.17.3)\n",
            "Requirement already satisfied: Pillow in /usr/local/lib/python3.7/dist-packages (from paddlepaddle-gpu==2.3.2) (7.1.2)\n",
            "Requirement already satisfied: requests>=2.20.0 in /usr/local/lib/python3.7/dist-packages (from paddlepaddle-gpu==2.3.2) (2.23.0)\n",
            "Requirement already satisfied: astor in /usr/local/lib/python3.7/dist-packages (from paddlepaddle-gpu==2.3.2) (0.8.1)\n",
            "Requirement already satisfied: idna<3,>=2.5 in /usr/local/lib/python3.7/dist-packages (from requests>=2.20.0->paddlepaddle-gpu==2.3.2) (2.10)\n",
            "Requirement already satisfied: urllib3!=1.25.0,!=1.25.1,<1.26,>=1.21.1 in /usr/local/lib/python3.7/dist-packages (from requests>=2.20.0->paddlepaddle-gpu==2.3.2) (1.24.3)\n",
            "Requirement already satisfied: chardet<4,>=3.0.2 in /usr/local/lib/python3.7/dist-packages (from requests>=2.20.0->paddlepaddle-gpu==2.3.2) (3.0.4)\n",
            "Requirement already satisfied: certifi>=2017.4.17 in /usr/local/lib/python3.7/dist-packages (from requests>=2.20.0->paddlepaddle-gpu==2.3.2) (2022.6.15)\n",
            "Installing collected packages: paddle-bfloat, paddlepaddle-gpu\n",
            "Successfully installed paddle-bfloat-0.1.7 paddlepaddle-gpu-2.3.2\n"
          ]
        }
      ],
      "source": [
        "!python -m pip install paddlepaddle-gpu==2.3.2 -i https://mirror.baidu.com/pypi/simple"
      ]
    },
    {
      "cell_type": "code",
      "source": [
        "import paddle\n",
        "paddle.utils.run_check()"
      ],
      "metadata": {
        "colab": {
          "base_uri": "https://localhost:8080/"
        },
        "id": "1FpyWnBw13P4",
        "outputId": "d958cb04-1a16-4996-8b54-8772402d2730"
      },
      "execution_count": 3,
      "outputs": [
        {
          "output_type": "stream",
          "name": "stdout",
          "text": [
            "Running verify PaddlePaddle program ... \n",
            "PaddlePaddle works well on 1 GPU.\n",
            "PaddlePaddle works well on 1 GPUs.\n",
            "PaddlePaddle is installed successfully! Let's start deep learning with PaddlePaddle now.\n"
          ]
        }
      ]
    },
    {
      "cell_type": "code",
      "source": [
        "print(paddle.__version__)"
      ],
      "metadata": {
        "colab": {
          "base_uri": "https://localhost:8080/"
        },
        "id": "G5cXmCkK200g",
        "outputId": "c119bccd-7e45-4ae3-a897-eff7503c837f"
      },
      "execution_count": 4,
      "outputs": [
        {
          "output_type": "stream",
          "name": "stdout",
          "text": [
            "2.3.2\n"
          ]
        }
      ]
    },
    {
      "cell_type": "code",
      "source": [
        "!git clone https://github.com/PaddlePaddle/PaddleSeg"
      ],
      "metadata": {
        "colab": {
          "base_uri": "https://localhost:8080/"
        },
        "id": "7ra-owoz28v1",
        "outputId": "0835c691-3e22-49ad-a56b-db30f9d5924e"
      },
      "execution_count": 5,
      "outputs": [
        {
          "output_type": "stream",
          "name": "stdout",
          "text": [
            "Cloning into 'PaddleSeg'...\n",
            "remote: Enumerating objects: 20113, done.\u001b[K\n",
            "remote: Counting objects: 100% (1307/1307), done.\u001b[K\n",
            "remote: Compressing objects: 100% (653/653), done.\u001b[K\n",
            "remote: Total 20113 (delta 780), reused 1087 (delta 629), pack-reused 18806\u001b[K\n",
            "Receiving objects: 100% (20113/20113), 346.07 MiB | 22.35 MiB/s, done.\n",
            "Resolving deltas: 100% (12870/12870), done.\n"
          ]
        }
      ]
    },
    {
      "cell_type": "code",
      "source": [
        "%cd PaddleSeg\n",
        "!pip install -r requirements.txt"
      ],
      "metadata": {
        "colab": {
          "base_uri": "https://localhost:8080/"
        },
        "id": "6fqVKD4x3Fxv",
        "outputId": "29640faa-7490-49a6-b6b5-1faa7685dc92"
      },
      "execution_count": 6,
      "outputs": [
        {
          "output_type": "stream",
          "name": "stdout",
          "text": [
            "/content/PaddleSeg\n",
            "Looking in indexes: https://pypi.org/simple, https://us-python.pkg.dev/colab-wheels/public/simple/\n",
            "Requirement already satisfied: pyyaml>=5.1 in /usr/local/lib/python3.7/dist-packages (from -r requirements.txt (line 1)) (6.0)\n",
            "Collecting visualdl>=2.2.0\n",
            "  Downloading visualdl-2.4.1-py3-none-any.whl (4.9 MB)\n",
            "\u001b[K     |████████████████████████████████| 4.9 MB 6.9 MB/s \n",
            "\u001b[?25hRequirement already satisfied: opencv-python in /usr/local/lib/python3.7/dist-packages (from -r requirements.txt (line 3)) (4.6.0.66)\n",
            "Requirement already satisfied: tqdm in /usr/local/lib/python3.7/dist-packages (from -r requirements.txt (line 4)) (4.64.1)\n",
            "Requirement already satisfied: filelock in /usr/local/lib/python3.7/dist-packages (from -r requirements.txt (line 5)) (3.8.0)\n",
            "Requirement already satisfied: scipy in /usr/local/lib/python3.7/dist-packages (from -r requirements.txt (line 6)) (1.7.3)\n",
            "Requirement already satisfied: prettytable in /usr/local/lib/python3.7/dist-packages (from -r requirements.txt (line 7)) (3.4.1)\n",
            "Collecting sklearn\n",
            "  Downloading sklearn-0.0.tar.gz (1.1 kB)\n",
            "Requirement already satisfied: numpy in /usr/local/lib/python3.7/dist-packages (from visualdl>=2.2.0->-r requirements.txt (line 2)) (1.21.6)\n",
            "Collecting multiprocess\n",
            "  Downloading multiprocess-0.70.13-py37-none-any.whl (115 kB)\n",
            "\u001b[K     |████████████████████████████████| 115 kB 64.4 MB/s \n",
            "\u001b[?25hRequirement already satisfied: matplotlib in /usr/local/lib/python3.7/dist-packages (from visualdl>=2.2.0->-r requirements.txt (line 2)) (3.2.2)\n",
            "Requirement already satisfied: packaging in /usr/local/lib/python3.7/dist-packages (from visualdl>=2.2.0->-r requirements.txt (line 2)) (21.3)\n",
            "Collecting Flask-Babel>=1.0.0\n",
            "  Downloading Flask_Babel-2.0.0-py3-none-any.whl (9.3 kB)\n",
            "Requirement already satisfied: requests in /usr/local/lib/python3.7/dist-packages (from visualdl>=2.2.0->-r requirements.txt (line 2)) (2.23.0)\n",
            "Requirement already satisfied: pandas in /usr/local/lib/python3.7/dist-packages (from visualdl>=2.2.0->-r requirements.txt (line 2)) (1.3.5)\n",
            "Requirement already satisfied: protobuf>=3.11.0 in /usr/local/lib/python3.7/dist-packages (from visualdl>=2.2.0->-r requirements.txt (line 2)) (3.17.3)\n",
            "Requirement already satisfied: flask>=1.1.1 in /usr/local/lib/python3.7/dist-packages (from visualdl>=2.2.0->-r requirements.txt (line 2)) (1.1.4)\n",
            "Requirement already satisfied: six>=1.14.0 in /usr/local/lib/python3.7/dist-packages (from visualdl>=2.2.0->-r requirements.txt (line 2)) (1.15.0)\n",
            "Collecting bce-python-sdk\n",
            "  Downloading bce_python_sdk-0.8.74-py3-none-any.whl (204 kB)\n",
            "\u001b[K     |████████████████████████████████| 204 kB 74.2 MB/s \n",
            "\u001b[?25hRequirement already satisfied: Pillow>=7.0.0 in /usr/local/lib/python3.7/dist-packages (from visualdl>=2.2.0->-r requirements.txt (line 2)) (7.1.2)\n",
            "Requirement already satisfied: click<8.0,>=5.1 in /usr/local/lib/python3.7/dist-packages (from flask>=1.1.1->visualdl>=2.2.0->-r requirements.txt (line 2)) (7.1.2)\n",
            "Requirement already satisfied: Jinja2<3.0,>=2.10.1 in /usr/local/lib/python3.7/dist-packages (from flask>=1.1.1->visualdl>=2.2.0->-r requirements.txt (line 2)) (2.11.3)\n",
            "Requirement already satisfied: Werkzeug<2.0,>=0.15 in /usr/local/lib/python3.7/dist-packages (from flask>=1.1.1->visualdl>=2.2.0->-r requirements.txt (line 2)) (1.0.1)\n",
            "Requirement already satisfied: itsdangerous<2.0,>=0.24 in /usr/local/lib/python3.7/dist-packages (from flask>=1.1.1->visualdl>=2.2.0->-r requirements.txt (line 2)) (1.1.0)\n",
            "Requirement already satisfied: Babel>=2.3 in /usr/local/lib/python3.7/dist-packages (from Flask-Babel>=1.0.0->visualdl>=2.2.0->-r requirements.txt (line 2)) (2.10.3)\n",
            "Requirement already satisfied: pytz in /usr/local/lib/python3.7/dist-packages (from Flask-Babel>=1.0.0->visualdl>=2.2.0->-r requirements.txt (line 2)) (2022.2.1)\n",
            "Requirement already satisfied: MarkupSafe>=0.23 in /usr/local/lib/python3.7/dist-packages (from Jinja2<3.0,>=2.10.1->flask>=1.1.1->visualdl>=2.2.0->-r requirements.txt (line 2)) (2.0.1)\n",
            "Requirement already satisfied: importlib-metadata in /usr/local/lib/python3.7/dist-packages (from prettytable->-r requirements.txt (line 7)) (4.12.0)\n",
            "Requirement already satisfied: wcwidth in /usr/local/lib/python3.7/dist-packages (from prettytable->-r requirements.txt (line 7)) (0.2.5)\n",
            "Requirement already satisfied: scikit-learn in /usr/local/lib/python3.7/dist-packages (from sklearn->-r requirements.txt (line 8)) (1.0.2)\n",
            "Collecting pycryptodome>=3.8.0\n",
            "  Downloading pycryptodome-3.15.0-cp35-abi3-manylinux2010_x86_64.whl (2.3 MB)\n",
            "\u001b[K     |████████████████████████████████| 2.3 MB 63.8 MB/s \n",
            "\u001b[?25hRequirement already satisfied: future>=0.6.0 in /usr/local/lib/python3.7/dist-packages (from bce-python-sdk->visualdl>=2.2.0->-r requirements.txt (line 2)) (0.16.0)\n",
            "Requirement already satisfied: typing-extensions>=3.6.4 in /usr/local/lib/python3.7/dist-packages (from importlib-metadata->prettytable->-r requirements.txt (line 7)) (4.1.1)\n",
            "Requirement already satisfied: zipp>=0.5 in /usr/local/lib/python3.7/dist-packages (from importlib-metadata->prettytable->-r requirements.txt (line 7)) (3.8.1)\n",
            "Requirement already satisfied: cycler>=0.10 in /usr/local/lib/python3.7/dist-packages (from matplotlib->visualdl>=2.2.0->-r requirements.txt (line 2)) (0.11.0)\n",
            "Requirement already satisfied: python-dateutil>=2.1 in /usr/local/lib/python3.7/dist-packages (from matplotlib->visualdl>=2.2.0->-r requirements.txt (line 2)) (2.8.2)\n",
            "Requirement already satisfied: pyparsing!=2.0.4,!=2.1.2,!=2.1.6,>=2.0.1 in /usr/local/lib/python3.7/dist-packages (from matplotlib->visualdl>=2.2.0->-r requirements.txt (line 2)) (3.0.9)\n",
            "Requirement already satisfied: kiwisolver>=1.0.1 in /usr/local/lib/python3.7/dist-packages (from matplotlib->visualdl>=2.2.0->-r requirements.txt (line 2)) (1.4.4)\n",
            "Requirement already satisfied: dill>=0.3.5.1 in /usr/local/lib/python3.7/dist-packages (from multiprocess->visualdl>=2.2.0->-r requirements.txt (line 2)) (0.3.5.1)\n",
            "Requirement already satisfied: idna<3,>=2.5 in /usr/local/lib/python3.7/dist-packages (from requests->visualdl>=2.2.0->-r requirements.txt (line 2)) (2.10)\n",
            "Requirement already satisfied: certifi>=2017.4.17 in /usr/local/lib/python3.7/dist-packages (from requests->visualdl>=2.2.0->-r requirements.txt (line 2)) (2022.6.15)\n",
            "Requirement already satisfied: urllib3!=1.25.0,!=1.25.1,<1.26,>=1.21.1 in /usr/local/lib/python3.7/dist-packages (from requests->visualdl>=2.2.0->-r requirements.txt (line 2)) (1.24.3)\n",
            "Requirement already satisfied: chardet<4,>=3.0.2 in /usr/local/lib/python3.7/dist-packages (from requests->visualdl>=2.2.0->-r requirements.txt (line 2)) (3.0.4)\n",
            "Requirement already satisfied: threadpoolctl>=2.0.0 in /usr/local/lib/python3.7/dist-packages (from scikit-learn->sklearn->-r requirements.txt (line 8)) (3.1.0)\n",
            "Requirement already satisfied: joblib>=0.11 in /usr/local/lib/python3.7/dist-packages (from scikit-learn->sklearn->-r requirements.txt (line 8)) (1.1.0)\n",
            "Building wheels for collected packages: sklearn\n",
            "  Building wheel for sklearn (setup.py) ... \u001b[?25l\u001b[?25hdone\n",
            "  Created wheel for sklearn: filename=sklearn-0.0-py2.py3-none-any.whl size=1310 sha256=c72044251cec3a1a62e6fe882147713d9e24ad390def2bd914ddb4370f6c42af\n",
            "  Stored in directory: /root/.cache/pip/wheels/46/ef/c3/157e41f5ee1372d1be90b09f74f82b10e391eaacca8f22d33e\n",
            "Successfully built sklearn\n",
            "Installing collected packages: pycryptodome, multiprocess, Flask-Babel, bce-python-sdk, visualdl, sklearn\n",
            "Successfully installed Flask-Babel-2.0.0 bce-python-sdk-0.8.74 multiprocess-0.70.13 pycryptodome-3.15.0 sklearn-0.0 visualdl-2.4.1\n"
          ]
        }
      ]
    },
    {
      "cell_type": "markdown",
      "source": [
        "# Test Pkg"
      ],
      "metadata": {
        "id": "rMsKQUa_330U"
      }
    },
    {
      "cell_type": "code",
      "source": [
        "!sh tests/run_check_install.sh"
      ],
      "metadata": {
        "colab": {
          "base_uri": "https://localhost:8080/"
        },
        "id": "qcI4rDtB3O3O",
        "outputId": "b4f53872-3795-4200-dbdc-4ae3d8e1eccd"
      },
      "execution_count": 9,
      "outputs": [
        {
          "output_type": "stream",
          "name": "stdout",
          "text": [
            "--2022-09-20 17:05:54--  https://paddleseg.bj.bcebos.com/dataset/optic_disc_seg.zip\n",
            "Resolving paddleseg.bj.bcebos.com (paddleseg.bj.bcebos.com)... 103.235.46.61, 2409:8c04:1001:1002:0:ff:b001:368a\n",
            "Connecting to paddleseg.bj.bcebos.com (paddleseg.bj.bcebos.com)|103.235.46.61|:443... connected.\n",
            "HTTP request sent, awaiting response... 200 OK\n",
            "Length: 19300588 (18M) [application/zip]\n",
            "Saving to: ‘optic_disc_seg.zip’\n",
            "\n",
            "optic_disc_seg.zip  100%[===================>]  18.41M  2.66MB/s    in 13s     \n",
            "\n",
            "2022-09-20 17:06:08 (1.44 MB/s) - ‘optic_disc_seg.zip’ saved [19300588/19300588]\n",
            "\n",
            "/content/PaddleSeg/paddleseg/models/losses/rmi_loss.py:78: DeprecationWarning: invalid escape sequence \\i\n",
            "  \"\"\"\n",
            "2022-09-20 17:06:10 [INFO]\t\n",
            "------------Environment Information-------------\n",
            "platform: Linux-5.10.133+-x86_64-with-Ubuntu-18.04-bionic\n",
            "Python: 3.7.14 (default, Sep  8 2022, 00:06:44) [GCC 7.5.0]\n",
            "Paddle compiled with cuda: True\n",
            "NVCC: Build cuda_11.1.TC455_06.29190527_0\n",
            "cudnn: 7.6\n",
            "GPUs used: 1\n",
            "CUDA_VISIBLE_DEVICES: None\n",
            "GPU: ['GPU 0: Tesla T4']\n",
            "GCC: gcc (Ubuntu 7.5.0-3ubuntu1~18.04) 7.5.0\n",
            "PaddleSeg: 2.6.0\n",
            "PaddlePaddle: 2.3.2\n",
            "OpenCV: 4.6.0\n",
            "------------------------------------------------\n",
            "2022-09-20 17:06:10 [INFO]\t\n",
            "---------------Config Information---------------\n",
            "batch_size: 4\n",
            "iters: 20\n",
            "loss:\n",
            "  coef:\n",
            "  - 1\n",
            "  - 1\n",
            "  - 1\n",
            "  types:\n",
            "  - ignore_index: 255\n",
            "    type: CrossEntropyLoss\n",
            "lr_scheduler:\n",
            "  end_lr: 0\n",
            "  learning_rate: 0.01\n",
            "  power: 0.9\n",
            "  type: PolynomialDecay\n",
            "model:\n",
            "  backbone:\n",
            "    pretrained: https://bj.bcebos.com/paddleseg/dygraph/PP_STDCNet2.tar.gz\n",
            "    type: STDC2\n",
            "  type: PPLiteSeg\n",
            "optimizer:\n",
            "  momentum: 0.9\n",
            "  type: sgd\n",
            "  weight_decay: 4.0e-05\n",
            "train_dataset:\n",
            "  dataset_root: data/optic_disc_seg\n",
            "  mode: train\n",
            "  num_classes: 2\n",
            "  train_path: data/optic_disc_seg/train_list.txt\n",
            "  transforms:\n",
            "  - max_scale_factor: 2.0\n",
            "    min_scale_factor: 0.5\n",
            "    scale_step_size: 0.25\n",
            "    type: ResizeStepScaling\n",
            "  - crop_size:\n",
            "    - 512\n",
            "    - 512\n",
            "    type: RandomPaddingCrop\n",
            "  - type: RandomHorizontalFlip\n",
            "  - brightness_range: 0.5\n",
            "    contrast_range: 0.5\n",
            "    saturation_range: 0.5\n",
            "    type: RandomDistort\n",
            "  - type: Normalize\n",
            "  type: Dataset\n",
            "val_dataset:\n",
            "  dataset_root: data/optic_disc_seg\n",
            "  mode: val\n",
            "  num_classes: 2\n",
            "  transforms:\n",
            "  - type: Normalize\n",
            "  type: Dataset\n",
            "  val_path: data/optic_disc_seg/val_list.txt\n",
            "------------------------------------------------\n",
            "W0920 17:06:10.997378   266 gpu_resources.cc:61] Please NOTE: device: 0, GPU Compute Capability: 7.5, Driver API Version: 11.2, Runtime API Version: 10.2\n",
            "W0920 17:06:10.997422   266 gpu_resources.cc:91] device: 0, cuDNN Version: 7.6.\n",
            "2022-09-20 17:06:11 [INFO]\tLoading pretrained model from https://bj.bcebos.com/paddleseg/dygraph/PP_STDCNet2.tar.gz\n",
            "Connecting to https://bj.bcebos.com/paddleseg/dygraph/PP_STDCNet2.tar.gz\n",
            "Downloading PP_STDCNet2.tar.gz\n",
            "[==================================================] 100.00%\n",
            "Uncompress PP_STDCNet2.tar.gz\n",
            "[==================================================] 100.00%\n",
            "2022-09-20 17:06:39 [INFO]\tThere are 265/265 variables loaded into STDCNet.\n",
            "/usr/local/lib/python3.7/dist-packages/paddle/nn/layer/norm.py:654: UserWarning: When training, we now always track global mean and variance.\n",
            "  \"When training, we now always track global mean and variance.\")\n",
            "/usr/local/lib/python3.7/dist-packages/paddle/fluid/dygraph/math_op_patch.py:278: UserWarning: The dtype of left and right variables are not the same, left dtype is paddle.float32, but right dtype is paddle.int64, the right dtype will convert to paddle.float32\n",
            "  format(lhs_dtype, rhs_dtype, lhs_dtype))\n",
            "2022-09-20 17:06:44 [INFO]\t[TRAIN] epoch: 1, iter: 10/20, loss: 1.3312, lr: 0.005839, batch_cost: 0.5010, reader_cost: 0.05389, ips: 7.9838 samples/sec | ETA 00:00:05\n",
            "2022-09-20 17:06:46 [INFO]\t[TRAIN] epoch: 1, iter: 20/20, loss: 0.3530, lr: 0.000675, batch_cost: 0.1891, reader_cost: 0.07397, ips: 21.1559 samples/sec | ETA 00:00:00\n",
            "2022-09-20 17:06:46 [INFO]\tStart evaluating (total_samples: 76, total_iters: 76)...\n",
            "76/76 [==============================] - 3s 38ms/step - batch_cost: 0.0381 - reader cost: 0.0014\n",
            "2022-09-20 17:06:49 [INFO]\t[EVAL] #Images: 76 mIoU: 0.4913 Acc: 0.9816 Kappa: 0.0019 Dice: 0.4964\n",
            "2022-09-20 17:06:49 [INFO]\t[EVAL] Class IoU: \n",
            "[0.9816 0.001 ]\n",
            "2022-09-20 17:06:49 [INFO]\t[EVAL] Class Precision: \n",
            "[0.9817 0.5478]\n",
            "2022-09-20 17:06:49 [INFO]\t[EVAL] Class Recall: \n",
            "[1.    0.001]\n",
            "2022-09-20 17:06:49 [INFO]\t[EVAL] The model with the best validation mIoU (0.4913) was saved at iter 20.\n",
            "<class 'paddle.nn.layer.conv.Conv2D'>'s flops has been counted\n",
            "<class 'paddle.nn.layer.norm.BatchNorm2D'>'s flops has been counted\n",
            "<class 'paddle.nn.layer.activation.ReLU'>'s flops has been counted\n",
            "<class 'paddle.nn.layer.pooling.AvgPool2D'>'s flops has been counted\n",
            "<class 'paddle.nn.layer.pooling.AdaptiveAvgPool2D'>'s flops has been counted\n",
            "Total Flops: 9643807616     Total Params: 12251410\n",
            "-e \n",
            "\n",
            "\n",
            "2022-09-20 17:06:53 [INFO]\t\n",
            "---------------Config Information---------------\n",
            "batch_size: 4\n",
            "iters: 1000\n",
            "loss:\n",
            "  coef:\n",
            "  - 1\n",
            "  - 1\n",
            "  - 1\n",
            "  types:\n",
            "  - type: CrossEntropyLoss\n",
            "lr_scheduler:\n",
            "  end_lr: 0\n",
            "  learning_rate: 0.01\n",
            "  power: 0.9\n",
            "  type: PolynomialDecay\n",
            "model:\n",
            "  backbone:\n",
            "    pretrained: https://bj.bcebos.com/paddleseg/dygraph/PP_STDCNet2.tar.gz\n",
            "    type: STDC2\n",
            "  type: PPLiteSeg\n",
            "optimizer:\n",
            "  momentum: 0.9\n",
            "  type: sgd\n",
            "  weight_decay: 4.0e-05\n",
            "train_dataset:\n",
            "  dataset_root: data/optic_disc_seg\n",
            "  mode: train\n",
            "  num_classes: 2\n",
            "  train_path: data/optic_disc_seg/train_list.txt\n",
            "  transforms:\n",
            "  - max_scale_factor: 2.0\n",
            "    min_scale_factor: 0.5\n",
            "    scale_step_size: 0.25\n",
            "    type: ResizeStepScaling\n",
            "  - crop_size:\n",
            "    - 512\n",
            "    - 512\n",
            "    type: RandomPaddingCrop\n",
            "  - type: RandomHorizontalFlip\n",
            "  - brightness_range: 0.5\n",
            "    contrast_range: 0.5\n",
            "    saturation_range: 0.5\n",
            "    type: RandomDistort\n",
            "  - type: Normalize\n",
            "  type: Dataset\n",
            "val_dataset:\n",
            "  dataset_root: data/optic_disc_seg\n",
            "  mode: val\n",
            "  num_classes: 2\n",
            "  transforms:\n",
            "  - type: Normalize\n",
            "  type: Dataset\n",
            "  val_path: data/optic_disc_seg/val_list.txt\n",
            "------------------------------------------------\n",
            "W0920 17:06:53.226039   306 gpu_resources.cc:61] Please NOTE: device: 0, GPU Compute Capability: 7.5, Driver API Version: 11.2, Runtime API Version: 10.2\n",
            "W0920 17:06:53.226140   306 gpu_resources.cc:91] device: 0, cuDNN Version: 7.6.\n",
            "2022-09-20 17:06:54 [INFO]\tLoading pretrained model from https://bj.bcebos.com/paddleseg/dygraph/PP_STDCNet2.tar.gz\n",
            "2022-09-20 17:06:54 [INFO]\tThere are 265/265 variables loaded into STDCNet.\n",
            "2022-09-20 17:06:54 [INFO]\tNumber of predict images = 1\n",
            "2022-09-20 17:06:54 [INFO]\tLoading pretrained model from https://paddleseg.bj.bcebos.com/dygraph/optic_disc/pp_liteseg_optic_disc_512x512_1k/model.pdparams\n",
            "Connecting to https://paddleseg.bj.bcebos.com/dygraph/optic_disc/pp_liteseg_optic_disc_512x512_1k/model.pdparams\n",
            "Downloading model.pdparams\n",
            "[==================================================] 100.00%\n",
            "2022-09-20 17:07:12 [INFO]\tThere are 367/367 variables loaded into PPLiteSeg.\n",
            "2022-09-20 17:07:12 [INFO]\tStart to predict...\n",
            "1/1 [==============================] - 1s 1s/step\n"
          ]
        }
      ]
    },
    {
      "cell_type": "markdown",
      "source": [
        "# Dataset vorarbeiten"
      ],
      "metadata": {
        "id": "dvWWM8JR-wUT"
      }
    },
    {
      "cell_type": "code",
      "source": [
        "!wget https://dl-web.dropbox.com/s/x5po7zf39usfrfq/images.zip"
      ],
      "metadata": {
        "colab": {
          "base_uri": "https://localhost:8080/"
        },
        "id": "vrr53Xkb-zfy",
        "outputId": "61c54811-45d9-4dd3-ca0f-687a5ce4d4ee"
      },
      "execution_count": 7,
      "outputs": [
        {
          "output_type": "stream",
          "name": "stdout",
          "text": [
            "--2022-09-20 19:07:10--  https://dl-web.dropbox.com/s/x5po7zf39usfrfq/images.zip\n",
            "Resolving dl-web.dropbox.com (dl-web.dropbox.com)... 162.125.1.15, 2620:100:6016:15::a27d:10f\n",
            "Connecting to dl-web.dropbox.com (dl-web.dropbox.com)|162.125.1.15|:443... connected.\n",
            "HTTP request sent, awaiting response... 302 Found\n",
            "Location: https://dl.dropboxusercontent.com/s/x5po7zf39usfrfq/images.zip [following]\n",
            "--2022-09-20 19:07:10--  https://dl.dropboxusercontent.com/s/x5po7zf39usfrfq/images.zip\n",
            "Resolving dl.dropboxusercontent.com (dl.dropboxusercontent.com)... 162.125.1.15, 2620:100:6016:15::a27d:10f\n",
            "Connecting to dl.dropboxusercontent.com (dl.dropboxusercontent.com)|162.125.1.15|:443... connected.\n",
            "HTTP request sent, awaiting response... 200 OK\n",
            "Length: 416010769 (397M) [application/zip]\n",
            "Saving to: ‘images.zip’\n",
            "\n",
            "images.zip          100%[===================>] 396.74M  41.2MB/s    in 9.8s    \n",
            "\n",
            "2022-09-20 19:07:20 (40.4 MB/s) - ‘images.zip’ saved [416010769/416010769]\n",
            "\n"
          ]
        }
      ]
    },
    {
      "cell_type": "code",
      "source": [
        "!unzip images.zip"
      ],
      "metadata": {
        "id": "ftSWfVYvNeGO"
      },
      "execution_count": null,
      "outputs": []
    },
    {
      "cell_type": "markdown",
      "source": [
        "# Dataset herstellen"
      ],
      "metadata": {
        "id": "I61S1tGAODl1"
      }
    },
    {
      "cell_type": "code",
      "source": [
        "!python tools/labelme2seg.py /content/PaddleSeg/images"
      ],
      "metadata": {
        "id": "HgX5sP1YN0ja"
      },
      "execution_count": null,
      "outputs": []
    },
    {
      "cell_type": "code",
      "source": [
        "os.makedirs(\"/content/PaddleSeg/custom_dataset/images\")\n",
        "os.makedirs(\"/content/PaddleSeg/custom_dataset/labels\")"
      ],
      "metadata": {
        "id": "7b_re9snRZiH"
      },
      "execution_count": 23,
      "outputs": []
    },
    {
      "cell_type": "code",
      "source": [
        "copy_allfiles(\"/content/PaddleSeg/images/annotations\", \"/content/PaddleSeg/custom_dataset/labels\")\n",
        "# copy_allfiles(\"/content/images/annotations\", \"/content/custom_dataset/labels\")"
      ],
      "metadata": {
        "id": "nZE8dZk6QgLg"
      },
      "execution_count": 24,
      "outputs": []
    },
    {
      "cell_type": "code",
      "source": [
        "shutil.rmtree(\"/content/PaddleSeg/images/annotations\")"
      ],
      "metadata": {
        "id": "6y6f5UTyYMoQ"
      },
      "execution_count": 25,
      "outputs": []
    },
    {
      "cell_type": "code",
      "source": [
        "import os\n",
        "import shutil\n",
        "\n",
        "src_count = 0\n",
        "dst_count = 0\n",
        "src_dir = \"/content/PaddleSeg/images/\"\n",
        "dst_dir = \"/content/PaddleSeg/custom_dataset/images/\"\n",
        "my_type = 'png'\n",
        "\n",
        "# 创建目的文件夹\n",
        "if os.path.exists(dst_dir):\n",
        "    pass\n",
        "else:\n",
        "    os.mkdir(dst_dir)\n",
        "\n",
        "for root, dirs, files in os.walk(src_dir, topdown=False):\n",
        "    for name in files:\n",
        "        src_count += 1\n",
        "        file = os.path.join(root, name)  # 文件路径拼接\n",
        "        print(\"源文件夹中的第 %d 个文件： \" % src_count, file)\n",
        "        file_type = name.split('.').pop()  # 获取文件名后缀，如：exe\n",
        "        if file_type == my_type:\n",
        "            newname = dst_dir + name\n",
        "            if os.path.exists(newname):  # 判断目的目录文件是否已经存在，已经存在就不复制过去了\n",
        "                continue\n",
        "            try:\n",
        "                # 复制文件，file是源目录文件（完整路径和名称）, 'newname'是目的目录文件（同前）\n",
        "                a = shutil.copyfile(file, newname)\n",
        "                dst_count += 1\n",
        "                print(\"目的文件夹中的第 %d 个文件： \" % dst_count, newname)\n",
        "                print(\"-----成功复制第 %d 个%s文件\" % (dst_count, my_type))\n",
        "                print()\n",
        "            except IOError as e:\n",
        "                print(\"异常信息:\", e)\n",
        "                print(\"说明： 源目录文件和目的目录文件完全一致了\")\n",
        "\n",
        "\n",
        "print(\"-----总共从目录 {0} 复制了 {1} 个文件到目录 {2}\".format(src_dir, dst_count, dst_dir))\n",
        "\n",
        "\n"
      ],
      "metadata": {
        "id": "06xWrmolWfgc"
      },
      "execution_count": null,
      "outputs": []
    },
    {
      "cell_type": "code",
      "source": [
        "# !python tools/split_dataset_list.py <dataset_root> <images_dir_name> <labels_dir_name> ${FLAGS}\n",
        "# dataset_root: 数据集根目录\n",
        "# images_dir_name: 原始图像目录名\n",
        "# labels_dir_name: 标注图像目录名\n",
        "!python tools/split_dataset_list.py /content/PaddleSeg/custom_dataset images labels --split 0.7 0.3 0 --format png png"
      ],
      "metadata": {
        "id": "PBElaV-MZQHn"
      },
      "execution_count": null,
      "outputs": []
    },
    {
      "cell_type": "markdown",
      "source": [
        "# Train"
      ],
      "metadata": {
        "id": "wNmpX-eQdozD"
      }
    },
    {
      "cell_type": "code",
      "source": [
        "!export CUDA_VISIBLE_DEVICES=0 # 设置1张可用的卡\n",
        "\n",
        "# **windows下请执行以下命令**\n",
        "# **set CUDA_VISIBLE_DEVICES=0**\n"
      ],
      "metadata": {
        "id": "O-OllvhRdny0"
      },
      "execution_count": 31,
      "outputs": []
    },
    {
      "cell_type": "code",
      "source": [
        "!python train.py \\\n",
        "       --config configs/quick_start/pp_liteseg_optic_disc_512x512_1k.yml \\\n",
        "       --save_interval 50 \\\n",
        "       --do_eval \\\n",
        "       --use_vdl \\\n",
        "       --save_dir output"
      ],
      "metadata": {
        "colab": {
          "base_uri": "https://localhost:8080/"
        },
        "id": "Bes7zWZfdu-x",
        "outputId": "4432e829-8ac1-44de-d3c1-0fdfa76ffbe5"
      },
      "execution_count": 33,
      "outputs": [
        {
          "output_type": "stream",
          "name": "stdout",
          "text": [
            "2022-09-20 20:07:05 [INFO]\t\n",
            "------------Environment Information-------------\n",
            "platform: Linux-5.10.133+-x86_64-with-Ubuntu-18.04-bionic\n",
            "Python: 3.7.14 (default, Sep  8 2022, 00:06:44) [GCC 7.5.0]\n",
            "Paddle compiled with cuda: True\n",
            "NVCC: Build cuda_11.1.TC455_06.29190527_0\n",
            "cudnn: 7.6\n",
            "GPUs used: 1\n",
            "CUDA_VISIBLE_DEVICES: None\n",
            "GPU: ['GPU 0: Tesla T4']\n",
            "GCC: gcc (Ubuntu 7.5.0-3ubuntu1~18.04) 7.5.0\n",
            "PaddleSeg: 2.6.0\n",
            "PaddlePaddle: 2.3.2\n",
            "OpenCV: 4.6.0\n",
            "------------------------------------------------\n",
            "2022-09-20 20:07:05 [INFO]\t\n",
            "---------------Config Information---------------\n",
            "batch_size: 4\n",
            "iters: 1000\n",
            "loss:\n",
            "  coef:\n",
            "  - 1\n",
            "  - 1\n",
            "  - 1\n",
            "  types:\n",
            "  - ignore_index: 255\n",
            "    type: CrossEntropyLoss\n",
            "lr_scheduler:\n",
            "  end_lr: 0\n",
            "  learning_rate: 0.01\n",
            "  power: 0.9\n",
            "  type: PolynomialDecay\n",
            "model:\n",
            "  backbone:\n",
            "    pretrained: https://bj.bcebos.com/paddleseg/dygraph/PP_STDCNet2.tar.gz\n",
            "    type: STDC2\n",
            "  type: PPLiteSeg\n",
            "optimizer:\n",
            "  momentum: 0.9\n",
            "  type: sgd\n",
            "  weight_decay: 4.0e-05\n",
            "train_dataset:\n",
            "  dataset_root: /content/PaddleSeg/custom_dataset\n",
            "  mode: train\n",
            "  num_classes: 2\n",
            "  train_path: /content/PaddleSeg/custom_dataset/train.txt\n",
            "  transforms:\n",
            "  - max_scale_factor: 2.0\n",
            "    min_scale_factor: 0.5\n",
            "    scale_step_size: 0.25\n",
            "    type: ResizeStepScaling\n",
            "  - crop_size:\n",
            "    - 512\n",
            "    - 512\n",
            "    type: RandomPaddingCrop\n",
            "  - type: RandomHorizontalFlip\n",
            "  - brightness_range: 0.5\n",
            "    contrast_range: 0.5\n",
            "    saturation_range: 0.5\n",
            "    type: RandomDistort\n",
            "  - type: Normalize\n",
            "  type: Dataset\n",
            "val_dataset:\n",
            "  dataset_root: /content/PaddleSeg/custom_dataset\n",
            "  mode: val\n",
            "  num_classes: 2\n",
            "  transforms:\n",
            "  - type: Normalize\n",
            "  type: Dataset\n",
            "  val_path: /content/PaddleSeg/custom_dataset/val.txt\n",
            "------------------------------------------------\n",
            "W0920 20:07:05.152195   678 gpu_resources.cc:61] Please NOTE: device: 0, GPU Compute Capability: 7.5, Driver API Version: 11.2, Runtime API Version: 10.2\n",
            "W0920 20:07:05.152237   678 gpu_resources.cc:91] device: 0, cuDNN Version: 7.6.\n",
            "2022-09-20 20:07:06 [INFO]\tLoading pretrained model from https://bj.bcebos.com/paddleseg/dygraph/PP_STDCNet2.tar.gz\n",
            "2022-09-20 20:07:06 [INFO]\tThere are 265/265 variables loaded into STDCNet.\n",
            "/usr/local/lib/python3.7/dist-packages/paddle/nn/layer/norm.py:654: UserWarning: When training, we now always track global mean and variance.\n",
            "  \"When training, we now always track global mean and variance.\")\n",
            "/usr/local/lib/python3.7/dist-packages/paddle/fluid/dygraph/math_op_patch.py:278: UserWarning: The dtype of left and right variables are not the same, left dtype is paddle.float32, but right dtype is paddle.int64, the right dtype will convert to paddle.float32\n",
            "  format(lhs_dtype, rhs_dtype, lhs_dtype))\n",
            "2022-09-20 20:07:10 [INFO]\t[TRAIN] epoch: 1, iter: 10/1000, loss: 1.4551, lr: 0.009919, batch_cost: 0.4145, reader_cost: 0.07944, ips: 9.6503 samples/sec | ETA 00:06:50\n",
            "2022-09-20 20:07:13 [INFO]\t[TRAIN] epoch: 1, iter: 20/1000, loss: 0.1372, lr: 0.009829, batch_cost: 0.2968, reader_cost: 0.18097, ips: 13.4762 samples/sec | ETA 00:04:50\n",
            "2022-09-20 20:07:16 [INFO]\t[TRAIN] epoch: 1, iter: 30/1000, loss: 0.0370, lr: 0.009739, batch_cost: 0.3115, reader_cost: 0.18308, ips: 12.8402 samples/sec | ETA 00:05:02\n",
            "2022-09-20 20:07:19 [INFO]\t[TRAIN] epoch: 1, iter: 40/1000, loss: 0.0356, lr: 0.009648, batch_cost: 0.3350, reader_cost: 0.20574, ips: 11.9393 samples/sec | ETA 00:05:21\n",
            "2022-09-20 20:07:23 [INFO]\t[TRAIN] epoch: 1, iter: 50/1000, loss: 0.0266, lr: 0.009558, batch_cost: 0.3188, reader_cost: 0.19765, ips: 12.5478 samples/sec | ETA 00:05:02\n",
            "2022-09-20 20:07:23 [INFO]\tStart evaluating (total_samples: 259, total_iters: 259)...\n",
            "259/259 [==============================] - 35s 135ms/step - batch_cost: 0.1350 - reader cost: 0.0897\n",
            "2022-09-20 20:07:58 [INFO]\t[EVAL] #Images: 259 mIoU: 0.4997 Acc: 0.9994 Kappa: 0.0000 Dice: 0.4999\n",
            "2022-09-20 20:07:58 [INFO]\t[EVAL] Class IoU: \n",
            "[0.9994 0.    ]\n",
            "2022-09-20 20:07:58 [INFO]\t[EVAL] Class Precision: \n",
            "[0.9994 0.    ]\n",
            "2022-09-20 20:07:58 [INFO]\t[EVAL] Class Recall: \n",
            "[1. 0.]\n",
            "2022-09-20 20:07:58 [INFO]\t[EVAL] The model with the best validation mIoU (0.4997) was saved at iter 50.\n",
            "2022-09-20 20:08:00 [INFO]\t[TRAIN] epoch: 1, iter: 60/1000, loss: 0.0173, lr: 0.009467, batch_cost: 0.1843, reader_cost: 0.06395, ips: 21.7028 samples/sec | ETA 00:02:53\n",
            "2022-09-20 20:08:03 [INFO]\t[TRAIN] epoch: 1, iter: 70/1000, loss: 0.0334, lr: 0.009377, batch_cost: 0.2995, reader_cost: 0.17704, ips: 13.3574 samples/sec | ETA 00:04:38\n",
            "2022-09-20 20:08:06 [INFO]\t[TRAIN] epoch: 1, iter: 80/1000, loss: 0.0245, lr: 0.009286, batch_cost: 0.3048, reader_cost: 0.18796, ips: 13.1232 samples/sec | ETA 00:04:40\n",
            "2022-09-20 20:08:09 [INFO]\t[TRAIN] epoch: 1, iter: 90/1000, loss: 0.0316, lr: 0.009195, batch_cost: 0.3002, reader_cost: 0.18203, ips: 13.3238 samples/sec | ETA 00:04:33\n",
            "2022-09-20 20:08:12 [INFO]\t[TRAIN] epoch: 1, iter: 100/1000, loss: 0.0276, lr: 0.009104, batch_cost: 0.2981, reader_cost: 0.17871, ips: 13.4176 samples/sec | ETA 00:04:28\n",
            "2022-09-20 20:08:12 [INFO]\tStart evaluating (total_samples: 259, total_iters: 259)...\n",
            "259/259 [==============================] - 35s 134ms/step - batch_cost: 0.1340 - reader cost: 0.0892\n",
            "2022-09-20 20:08:47 [INFO]\t[EVAL] #Images: 259 mIoU: 0.4997 Acc: 0.9994 Kappa: 0.0000 Dice: 0.4999\n",
            "2022-09-20 20:08:47 [INFO]\t[EVAL] Class IoU: \n",
            "[0.9994 0.    ]\n",
            "2022-09-20 20:08:47 [INFO]\t[EVAL] Class Precision: \n",
            "[0.9994 0.    ]\n",
            "2022-09-20 20:08:47 [INFO]\t[EVAL] Class Recall: \n",
            "[1. 0.]\n",
            "2022-09-20 20:08:47 [INFO]\t[EVAL] The model with the best validation mIoU (0.4997) was saved at iter 50.\n",
            "2022-09-20 20:08:49 [INFO]\t[TRAIN] epoch: 1, iter: 110/1000, loss: 0.0309, lr: 0.009013, batch_cost: 0.1872, reader_cost: 0.06708, ips: 21.3645 samples/sec | ETA 00:02:46\n",
            "2022-09-20 20:08:52 [INFO]\t[TRAIN] epoch: 1, iter: 120/1000, loss: 0.0129, lr: 0.008922, batch_cost: 0.3022, reader_cost: 0.17770, ips: 13.2353 samples/sec | ETA 00:04:25\n",
            "2022-09-20 20:08:55 [INFO]\t[TRAIN] epoch: 1, iter: 130/1000, loss: 0.0490, lr: 0.008831, batch_cost: 0.3056, reader_cost: 0.18839, ips: 13.0887 samples/sec | ETA 00:04:25\n",
            "2022-09-20 20:08:58 [INFO]\t[TRAIN] epoch: 1, iter: 140/1000, loss: 0.0154, lr: 0.008740, batch_cost: 0.3026, reader_cost: 0.18150, ips: 13.2209 samples/sec | ETA 00:04:20\n",
            "2022-09-20 20:09:01 [INFO]\t[TRAIN] epoch: 1, iter: 150/1000, loss: 0.0182, lr: 0.008648, batch_cost: 0.3119, reader_cost: 0.19342, ips: 12.8238 samples/sec | ETA 00:04:25\n",
            "2022-09-20 20:09:01 [INFO]\tStart evaluating (total_samples: 259, total_iters: 259)...\n",
            "259/259 [==============================] - 34s 133ms/step - batch_cost: 0.1322 - reader cost: 0.0882\n",
            "2022-09-20 20:09:36 [INFO]\t[EVAL] #Images: 259 mIoU: 0.4997 Acc: 0.9994 Kappa: 0.0000 Dice: 0.4999\n",
            "2022-09-20 20:09:36 [INFO]\t[EVAL] Class IoU: \n",
            "[0.9994 0.    ]\n",
            "2022-09-20 20:09:36 [INFO]\t[EVAL] Class Precision: \n",
            "[0.9994 0.    ]\n",
            "2022-09-20 20:09:36 [INFO]\t[EVAL] Class Recall: \n",
            "[1. 0.]\n",
            "2022-09-20 20:09:36 [INFO]\t[EVAL] The model with the best validation mIoU (0.4997) was saved at iter 50.\n",
            "2022-09-20 20:09:39 [INFO]\t[TRAIN] epoch: 2, iter: 160/1000, loss: 0.0281, lr: 0.008557, batch_cost: 0.2938, reader_cost: 0.18012, ips: 13.6144 samples/sec | ETA 00:04:06\n",
            "2022-09-20 20:09:42 [INFO]\t[TRAIN] epoch: 2, iter: 170/1000, loss: 0.0158, lr: 0.008465, batch_cost: 0.2977, reader_cost: 0.17753, ips: 13.4347 samples/sec | ETA 00:04:07\n",
            "2022-09-20 20:09:45 [INFO]\t[TRAIN] epoch: 2, iter: 180/1000, loss: 0.0175, lr: 0.008374, batch_cost: 0.3085, reader_cost: 0.18739, ips: 12.9660 samples/sec | ETA 00:04:12\n",
            "2022-09-20 20:09:48 [INFO]\t[TRAIN] epoch: 2, iter: 190/1000, loss: 0.0156, lr: 0.008282, batch_cost: 0.3017, reader_cost: 0.18137, ips: 13.2601 samples/sec | ETA 00:04:04\n",
            "2022-09-20 20:09:51 [INFO]\t[TRAIN] epoch: 2, iter: 200/1000, loss: 0.0131, lr: 0.008190, batch_cost: 0.3008, reader_cost: 0.18403, ips: 13.2965 samples/sec | ETA 00:04:00\n",
            "2022-09-20 20:09:51 [INFO]\tStart evaluating (total_samples: 259, total_iters: 259)...\n",
            "259/259 [==============================] - 35s 135ms/step - batch_cost: 0.1346 - reader cost: 0.0899\n",
            "2022-09-20 20:10:26 [INFO]\t[EVAL] #Images: 259 mIoU: 0.4997 Acc: 0.9994 Kappa: 0.0000 Dice: 0.4999\n",
            "2022-09-20 20:10:26 [INFO]\t[EVAL] Class IoU: \n",
            "[0.9994 0.    ]\n",
            "2022-09-20 20:10:26 [INFO]\t[EVAL] Class Precision: \n",
            "[0.9994 0.    ]\n",
            "2022-09-20 20:10:26 [INFO]\t[EVAL] Class Recall: \n",
            "[1. 0.]\n",
            "2022-09-20 20:10:26 [INFO]\t[EVAL] The model with the best validation mIoU (0.4997) was saved at iter 50.\n",
            "2022-09-20 20:10:28 [INFO]\t[TRAIN] epoch: 2, iter: 210/1000, loss: 0.0109, lr: 0.008098, batch_cost: 0.1778, reader_cost: 0.05629, ips: 22.4911 samples/sec | ETA 00:02:20\n",
            "2022-09-20 20:10:31 [INFO]\t[TRAIN] epoch: 2, iter: 220/1000, loss: 0.0207, lr: 0.008005, batch_cost: 0.3334, reader_cost: 0.18508, ips: 11.9959 samples/sec | ETA 00:04:20\n",
            "2022-09-20 20:10:34 [INFO]\t[TRAIN] epoch: 2, iter: 230/1000, loss: 0.0393, lr: 0.007913, batch_cost: 0.3397, reader_cost: 0.20587, ips: 11.7741 samples/sec | ETA 00:04:21\n",
            "2022-09-20 20:10:37 [INFO]\t[TRAIN] epoch: 2, iter: 240/1000, loss: 0.0198, lr: 0.007821, batch_cost: 0.3135, reader_cost: 0.19180, ips: 12.7578 samples/sec | ETA 00:03:58\n",
            "2022-09-20 20:10:41 [INFO]\t[TRAIN] epoch: 2, iter: 250/1000, loss: 0.0125, lr: 0.007728, batch_cost: 0.3246, reader_cost: 0.19374, ips: 12.3242 samples/sec | ETA 00:04:03\n",
            "2022-09-20 20:10:41 [INFO]\tStart evaluating (total_samples: 259, total_iters: 259)...\n",
            "259/259 [==============================] - 35s 137ms/step - batch_cost: 0.1367 - reader cost: 0.0914\n",
            "2022-09-20 20:11:16 [INFO]\t[EVAL] #Images: 259 mIoU: 0.4997 Acc: 0.9994 Kappa: 0.0000 Dice: 0.4999\n",
            "2022-09-20 20:11:16 [INFO]\t[EVAL] Class IoU: \n",
            "[0.9994 0.    ]\n",
            "2022-09-20 20:11:16 [INFO]\t[EVAL] Class Precision: \n",
            "[0.9994 0.    ]\n",
            "2022-09-20 20:11:16 [INFO]\t[EVAL] Class Recall: \n",
            "[1. 0.]\n",
            "2022-09-20 20:11:16 [INFO]\t[EVAL] The model with the best validation mIoU (0.4997) was saved at iter 50.\n",
            "2022-09-20 20:11:18 [INFO]\t[TRAIN] epoch: 2, iter: 260/1000, loss: 0.0124, lr: 0.007635, batch_cost: 0.1826, reader_cost: 0.06239, ips: 21.9093 samples/sec | ETA 00:02:15\n",
            "2022-09-20 20:11:21 [INFO]\t[TRAIN] epoch: 2, iter: 270/1000, loss: 0.0166, lr: 0.007543, batch_cost: 0.3093, reader_cost: 0.18728, ips: 12.9315 samples/sec | ETA 00:03:45\n",
            "2022-09-20 20:11:24 [INFO]\t[TRAIN] epoch: 2, iter: 280/1000, loss: 0.0192, lr: 0.007450, batch_cost: 0.3115, reader_cost: 0.19220, ips: 12.8399 samples/sec | ETA 00:03:44\n",
            "2022-09-20 20:11:27 [INFO]\t[TRAIN] epoch: 2, iter: 290/1000, loss: 0.0134, lr: 0.007357, batch_cost: 0.3016, reader_cost: 0.18031, ips: 13.2622 samples/sec | ETA 00:03:34\n",
            "2022-09-20 20:11:31 [INFO]\t[TRAIN] epoch: 2, iter: 300/1000, loss: 0.0169, lr: 0.007264, batch_cost: 0.3072, reader_cost: 0.18867, ips: 13.0227 samples/sec | ETA 00:03:35\n",
            "2022-09-20 20:11:31 [INFO]\tStart evaluating (total_samples: 259, total_iters: 259)...\n",
            "259/259 [==============================] - 34s 133ms/step - batch_cost: 0.1327 - reader cost: 0.0882\n",
            "2022-09-20 20:12:05 [INFO]\t[EVAL] #Images: 259 mIoU: 0.4997 Acc: 0.9994 Kappa: 0.0000 Dice: 0.4999\n",
            "2022-09-20 20:12:05 [INFO]\t[EVAL] Class IoU: \n",
            "[0.9994 0.    ]\n",
            "2022-09-20 20:12:05 [INFO]\t[EVAL] Class Precision: \n",
            "[0.9994 1.    ]\n",
            "2022-09-20 20:12:05 [INFO]\t[EVAL] Class Recall: \n",
            "[1. 0.]\n",
            "2022-09-20 20:12:05 [INFO]\t[EVAL] The model with the best validation mIoU (0.4997) was saved at iter 300.\n",
            "2022-09-20 20:12:08 [INFO]\t[TRAIN] epoch: 3, iter: 310/1000, loss: 0.0245, lr: 0.007170, batch_cost: 0.2730, reader_cost: 0.15904, ips: 14.6506 samples/sec | ETA 00:03:08\n",
            "2022-09-20 20:12:11 [INFO]\t[TRAIN] epoch: 3, iter: 320/1000, loss: 0.0124, lr: 0.007077, batch_cost: 0.3063, reader_cost: 0.18731, ips: 13.0570 samples/sec | ETA 00:03:28\n",
            "2022-09-20 20:12:14 [INFO]\t[TRAIN] epoch: 3, iter: 330/1000, loss: 0.0179, lr: 0.006983, batch_cost: 0.3085, reader_cost: 0.19028, ips: 12.9680 samples/sec | ETA 00:03:26\n",
            "2022-09-20 20:12:17 [INFO]\t[TRAIN] epoch: 3, iter: 340/1000, loss: 0.0151, lr: 0.006889, batch_cost: 0.3022, reader_cost: 0.18345, ips: 13.2358 samples/sec | ETA 00:03:19\n",
            "2022-09-20 20:12:20 [INFO]\t[TRAIN] epoch: 3, iter: 350/1000, loss: 0.0147, lr: 0.006796, batch_cost: 0.3027, reader_cost: 0.18292, ips: 13.2135 samples/sec | ETA 00:03:16\n",
            "2022-09-20 20:12:20 [INFO]\tStart evaluating (total_samples: 259, total_iters: 259)...\n",
            "259/259 [==============================] - 35s 135ms/step - batch_cost: 0.1349 - reader cost: 0.0899\n",
            "2022-09-20 20:12:55 [INFO]\t[EVAL] #Images: 259 mIoU: 0.4997 Acc: 0.9994 Kappa: 0.0000 Dice: 0.4999\n",
            "2022-09-20 20:12:55 [INFO]\t[EVAL] Class IoU: \n",
            "[0.9994 0.    ]\n",
            "2022-09-20 20:12:55 [INFO]\t[EVAL] Class Precision: \n",
            "[0.9994 1.    ]\n",
            "2022-09-20 20:12:55 [INFO]\t[EVAL] Class Recall: \n",
            "[1. 0.]\n",
            "2022-09-20 20:12:56 [INFO]\t[EVAL] The model with the best validation mIoU (0.4997) was saved at iter 300.\n",
            "2022-09-20 20:12:57 [INFO]\t[TRAIN] epoch: 3, iter: 360/1000, loss: 0.0138, lr: 0.006702, batch_cost: 0.1786, reader_cost: 0.06538, ips: 22.4002 samples/sec | ETA 00:01:54\n",
            "2022-09-20 20:13:00 [INFO]\t[TRAIN] epoch: 3, iter: 370/1000, loss: 0.0361, lr: 0.006607, batch_cost: 0.3095, reader_cost: 0.19335, ips: 12.9222 samples/sec | ETA 00:03:15\n",
            "2022-09-20 20:13:04 [INFO]\t[TRAIN] epoch: 3, iter: 380/1000, loss: 0.0220, lr: 0.006513, batch_cost: 0.3103, reader_cost: 0.19013, ips: 12.8906 samples/sec | ETA 00:03:12\n",
            "2022-09-20 20:13:07 [INFO]\t[TRAIN] epoch: 3, iter: 390/1000, loss: 0.0092, lr: 0.006419, batch_cost: 0.3048, reader_cost: 0.18712, ips: 13.1218 samples/sec | ETA 00:03:05\n",
            "2022-09-20 20:13:10 [INFO]\t[TRAIN] epoch: 3, iter: 400/1000, loss: 0.0130, lr: 0.006324, batch_cost: 0.3000, reader_cost: 0.18075, ips: 13.3349 samples/sec | ETA 00:02:59\n",
            "2022-09-20 20:13:10 [INFO]\tStart evaluating (total_samples: 259, total_iters: 259)...\n",
            "259/259 [==============================] - 35s 135ms/step - batch_cost: 0.1346 - reader cost: 0.0900\n",
            "2022-09-20 20:13:45 [INFO]\t[EVAL] #Images: 259 mIoU: 0.5014 Acc: 0.9994 Kappa: 0.0068 Dice: 0.5033\n",
            "2022-09-20 20:13:45 [INFO]\t[EVAL] Class IoU: \n",
            "[0.9994 0.0034]\n",
            "2022-09-20 20:13:45 [INFO]\t[EVAL] Class Precision: \n",
            "[0.9994 0.5798]\n",
            "2022-09-20 20:13:45 [INFO]\t[EVAL] Class Recall: \n",
            "[1.     0.0034]\n",
            "2022-09-20 20:13:45 [INFO]\t[EVAL] The model with the best validation mIoU (0.5014) was saved at iter 400.\n",
            "2022-09-20 20:13:47 [INFO]\t[TRAIN] epoch: 3, iter: 410/1000, loss: 0.0102, lr: 0.006229, batch_cost: 0.1802, reader_cost: 0.06133, ips: 22.2009 samples/sec | ETA 00:01:46\n",
            "2022-09-20 20:13:50 [INFO]\t[TRAIN] epoch: 3, iter: 420/1000, loss: 0.0095, lr: 0.006134, batch_cost: 0.2999, reader_cost: 0.17814, ips: 13.3398 samples/sec | ETA 00:02:53\n",
            "2022-09-20 20:13:53 [INFO]\t[TRAIN] epoch: 3, iter: 430/1000, loss: 0.0107, lr: 0.006039, batch_cost: 0.3074, reader_cost: 0.18930, ips: 13.0107 samples/sec | ETA 00:02:55\n",
            "2022-09-20 20:13:56 [INFO]\t[TRAIN] epoch: 3, iter: 440/1000, loss: 0.0262, lr: 0.005944, batch_cost: 0.3069, reader_cost: 0.18961, ips: 13.0327 samples/sec | ETA 00:02:51\n",
            "2022-09-20 20:13:59 [INFO]\t[TRAIN] epoch: 3, iter: 450/1000, loss: 0.0091, lr: 0.005848, batch_cost: 0.2988, reader_cost: 0.17814, ips: 13.3876 samples/sec | ETA 00:02:44\n",
            "2022-09-20 20:13:59 [INFO]\tStart evaluating (total_samples: 259, total_iters: 259)...\n",
            "259/259 [==============================] - 35s 135ms/step - batch_cost: 0.1342 - reader cost: 0.0898\n",
            "2022-09-20 20:14:34 [INFO]\t[EVAL] #Images: 259 mIoU: 0.5012 Acc: 0.9994 Kappa: 0.0058 Dice: 0.5028\n",
            "2022-09-20 20:14:34 [INFO]\t[EVAL] Class IoU: \n",
            "[0.9994 0.0029]\n",
            "2022-09-20 20:14:34 [INFO]\t[EVAL] Class Precision: \n",
            "[0.9994 0.8132]\n",
            "2022-09-20 20:14:34 [INFO]\t[EVAL] Class Recall: \n",
            "[1.     0.0029]\n",
            "2022-09-20 20:14:34 [INFO]\t[EVAL] The model with the best validation mIoU (0.5014) was saved at iter 400.\n",
            "2022-09-20 20:14:36 [INFO]\t[TRAIN] epoch: 4, iter: 460/1000, loss: 0.0183, lr: 0.005753, batch_cost: 0.2549, reader_cost: 0.14591, ips: 15.6949 samples/sec | ETA 00:02:17\n",
            "2022-09-20 20:14:40 [INFO]\t[TRAIN] epoch: 4, iter: 470/1000, loss: 0.0128, lr: 0.005657, batch_cost: 0.3135, reader_cost: 0.19358, ips: 12.7593 samples/sec | ETA 00:02:46\n",
            "2022-09-20 20:14:43 [INFO]\t[TRAIN] epoch: 4, iter: 480/1000, loss: 0.0147, lr: 0.005561, batch_cost: 0.3175, reader_cost: 0.19676, ips: 12.5967 samples/sec | ETA 00:02:45\n",
            "2022-09-20 20:14:46 [INFO]\t[TRAIN] epoch: 4, iter: 490/1000, loss: 0.0121, lr: 0.005465, batch_cost: 0.3110, reader_cost: 0.19232, ips: 12.8615 samples/sec | ETA 00:02:38\n",
            "2022-09-20 20:14:49 [INFO]\t[TRAIN] epoch: 4, iter: 500/1000, loss: 0.0175, lr: 0.005369, batch_cost: 0.3117, reader_cost: 0.19298, ips: 12.8342 samples/sec | ETA 00:02:35\n",
            "2022-09-20 20:14:49 [INFO]\tStart evaluating (total_samples: 259, total_iters: 259)...\n",
            "259/259 [==============================] - 35s 136ms/step - batch_cost: 0.1357 - reader cost: 0.0903\n",
            "2022-09-20 20:15:24 [INFO]\t[EVAL] #Images: 259 mIoU: 0.5002 Acc: 0.9994 Kappa: 0.0018 Dice: 0.5008\n",
            "2022-09-20 20:15:24 [INFO]\t[EVAL] Class IoU: \n",
            "[0.9994 0.0009]\n",
            "2022-09-20 20:15:24 [INFO]\t[EVAL] Class Precision: \n",
            "[0.9994 0.6519]\n",
            "2022-09-20 20:15:24 [INFO]\t[EVAL] Class Recall: \n",
            "[1.     0.0009]\n",
            "2022-09-20 20:15:24 [INFO]\t[EVAL] The model with the best validation mIoU (0.5014) was saved at iter 400.\n",
            "2022-09-20 20:15:26 [INFO]\t[TRAIN] epoch: 4, iter: 510/1000, loss: 0.0127, lr: 0.005272, batch_cost: 0.1838, reader_cost: 0.05784, ips: 21.7630 samples/sec | ETA 00:01:30\n",
            "2022-09-20 20:15:29 [INFO]\t[TRAIN] epoch: 4, iter: 520/1000, loss: 0.0097, lr: 0.005175, batch_cost: 0.3180, reader_cost: 0.19655, ips: 12.5803 samples/sec | ETA 00:02:32\n",
            "2022-09-20 20:15:33 [INFO]\t[TRAIN] epoch: 4, iter: 530/1000, loss: 0.0182, lr: 0.005078, batch_cost: 0.3057, reader_cost: 0.18592, ips: 13.0834 samples/sec | ETA 00:02:23\n",
            "2022-09-20 20:15:36 [INFO]\t[TRAIN] epoch: 4, iter: 540/1000, loss: 0.0136, lr: 0.004981, batch_cost: 0.3084, reader_cost: 0.18418, ips: 12.9699 samples/sec | ETA 00:02:21\n",
            "2022-09-20 20:15:39 [INFO]\t[TRAIN] epoch: 4, iter: 550/1000, loss: 0.0084, lr: 0.004884, batch_cost: 0.3074, reader_cost: 0.18880, ips: 13.0142 samples/sec | ETA 00:02:18\n",
            "2022-09-20 20:15:39 [INFO]\tStart evaluating (total_samples: 259, total_iters: 259)...\n",
            "259/259 [==============================] - 35s 136ms/step - batch_cost: 0.1356 - reader cost: 0.0902\n",
            "2022-09-20 20:16:14 [INFO]\t[EVAL] #Images: 259 mIoU: 0.5025 Acc: 0.9994 Kappa: 0.0111 Dice: 0.5054\n",
            "2022-09-20 20:16:14 [INFO]\t[EVAL] Class IoU: \n",
            "[0.9994 0.0056]\n",
            "2022-09-20 20:16:14 [INFO]\t[EVAL] Class Precision: \n",
            "[0.9994 0.7474]\n",
            "2022-09-20 20:16:14 [INFO]\t[EVAL] Class Recall: \n",
            "[1.     0.0056]\n",
            "2022-09-20 20:16:14 [INFO]\t[EVAL] The model with the best validation mIoU (0.5025) was saved at iter 550.\n",
            "2022-09-20 20:16:16 [INFO]\t[TRAIN] epoch: 4, iter: 560/1000, loss: 0.0113, lr: 0.004786, batch_cost: 0.1824, reader_cost: 0.06710, ips: 21.9307 samples/sec | ETA 00:01:20\n",
            "2022-09-20 20:16:19 [INFO]\t[TRAIN] epoch: 4, iter: 570/1000, loss: 0.0377, lr: 0.004688, batch_cost: 0.3030, reader_cost: 0.18945, ips: 13.2028 samples/sec | ETA 00:02:10\n",
            "2022-09-20 20:16:22 [INFO]\t[TRAIN] epoch: 4, iter: 580/1000, loss: 0.0155, lr: 0.004590, batch_cost: 0.3046, reader_cost: 0.18508, ips: 13.1299 samples/sec | ETA 00:02:07\n",
            "2022-09-20 20:16:25 [INFO]\t[TRAIN] epoch: 4, iter: 590/1000, loss: 0.0121, lr: 0.004492, batch_cost: 0.3152, reader_cost: 0.19663, ips: 12.6916 samples/sec | ETA 00:02:09\n",
            "2022-09-20 20:16:28 [INFO]\t[TRAIN] epoch: 4, iter: 600/1000, loss: 0.0076, lr: 0.004394, batch_cost: 0.3076, reader_cost: 0.19094, ips: 13.0057 samples/sec | ETA 00:02:03\n",
            "2022-09-20 20:16:28 [INFO]\tStart evaluating (total_samples: 259, total_iters: 259)...\n",
            "259/259 [==============================] - 35s 135ms/step - batch_cost: 0.1345 - reader cost: 0.0898\n",
            "2022-09-20 20:17:03 [INFO]\t[EVAL] #Images: 259 mIoU: 0.5153 Acc: 0.9994 Kappa: 0.0603 Dice: 0.5300\n",
            "2022-09-20 20:17:03 [INFO]\t[EVAL] Class IoU: \n",
            "[0.9994 0.0311]\n",
            "2022-09-20 20:17:03 [INFO]\t[EVAL] Class Precision: \n",
            "[0.9994 0.6857]\n",
            "2022-09-20 20:17:03 [INFO]\t[EVAL] Class Recall: \n",
            "[1.     0.0315]\n",
            "2022-09-20 20:17:04 [INFO]\t[EVAL] The model with the best validation mIoU (0.5153) was saved at iter 600.\n",
            "2022-09-20 20:17:06 [INFO]\t[TRAIN] epoch: 5, iter: 610/1000, loss: 0.0123, lr: 0.004295, batch_cost: 0.2304, reader_cost: 0.12561, ips: 17.3604 samples/sec | ETA 00:01:29\n",
            "2022-09-20 20:17:09 [INFO]\t[TRAIN] epoch: 5, iter: 620/1000, loss: 0.0139, lr: 0.004196, batch_cost: 0.3059, reader_cost: 0.18337, ips: 13.0748 samples/sec | ETA 00:01:56\n",
            "2022-09-20 20:17:12 [INFO]\t[TRAIN] epoch: 5, iter: 630/1000, loss: 0.0095, lr: 0.004097, batch_cost: 0.3104, reader_cost: 0.19059, ips: 12.8879 samples/sec | ETA 00:01:54\n",
            "2022-09-20 20:17:15 [INFO]\t[TRAIN] epoch: 5, iter: 640/1000, loss: 0.0194, lr: 0.003997, batch_cost: 0.3056, reader_cost: 0.18854, ips: 13.0876 samples/sec | ETA 00:01:50\n",
            "2022-09-20 20:17:18 [INFO]\t[TRAIN] epoch: 5, iter: 650/1000, loss: 0.0125, lr: 0.003897, batch_cost: 0.3036, reader_cost: 0.18291, ips: 13.1771 samples/sec | ETA 00:01:46\n",
            "2022-09-20 20:17:18 [INFO]\tStart evaluating (total_samples: 259, total_iters: 259)...\n",
            "259/259 [==============================] - 35s 136ms/step - batch_cost: 0.1354 - reader cost: 0.0898\n",
            "2022-09-20 20:17:53 [INFO]\t[EVAL] #Images: 259 mIoU: 0.5211 Acc: 0.9994 Kappa: 0.0819 Dice: 0.5408\n",
            "2022-09-20 20:17:53 [INFO]\t[EVAL] Class IoU: \n",
            "[0.9994 0.0427]\n",
            "2022-09-20 20:17:53 [INFO]\t[EVAL] Class Precision: \n",
            "[0.9995 0.7882]\n",
            "2022-09-20 20:17:53 [INFO]\t[EVAL] Class Recall: \n",
            "[1.     0.0432]\n",
            "2022-09-20 20:17:54 [INFO]\t[EVAL] The model with the best validation mIoU (0.5211) was saved at iter 650.\n",
            "2022-09-20 20:17:56 [INFO]\t[TRAIN] epoch: 5, iter: 660/1000, loss: 0.0084, lr: 0.003797, batch_cost: 0.1873, reader_cost: 0.06225, ips: 21.3599 samples/sec | ETA 00:01:03\n",
            "2022-09-20 20:17:59 [INFO]\t[TRAIN] epoch: 5, iter: 670/1000, loss: 0.0163, lr: 0.003697, batch_cost: 0.3106, reader_cost: 0.19098, ips: 12.8781 samples/sec | ETA 00:01:42\n",
            "2022-09-20 20:18:02 [INFO]\t[TRAIN] epoch: 5, iter: 680/1000, loss: 0.0114, lr: 0.003596, batch_cost: 0.3175, reader_cost: 0.19615, ips: 12.5984 samples/sec | ETA 00:01:41\n",
            "2022-09-20 20:18:05 [INFO]\t[TRAIN] epoch: 5, iter: 690/1000, loss: 0.0342, lr: 0.003495, batch_cost: 0.3153, reader_cost: 0.19396, ips: 12.6877 samples/sec | ETA 00:01:37\n",
            "2022-09-20 20:18:08 [INFO]\t[TRAIN] epoch: 5, iter: 700/1000, loss: 0.0147, lr: 0.003394, batch_cost: 0.3133, reader_cost: 0.19061, ips: 12.7689 samples/sec | ETA 00:01:33\n",
            "2022-09-20 20:18:08 [INFO]\tStart evaluating (total_samples: 259, total_iters: 259)...\n",
            "259/259 [==============================] - 35s 136ms/step - batch_cost: 0.1359 - reader cost: 0.0903\n",
            "2022-09-20 20:18:44 [INFO]\t[EVAL] #Images: 259 mIoU: 0.5133 Acc: 0.9994 Kappa: 0.0528 Dice: 0.5263\n",
            "2022-09-20 20:18:44 [INFO]\t[EVAL] Class IoU: \n",
            "[0.9994 0.0271]\n",
            "2022-09-20 20:18:44 [INFO]\t[EVAL] Class Precision: \n",
            "[0.9994 0.8306]\n",
            "2022-09-20 20:18:44 [INFO]\t[EVAL] Class Recall: \n",
            "[1.     0.0273]\n",
            "2022-09-20 20:18:44 [INFO]\t[EVAL] The model with the best validation mIoU (0.5211) was saved at iter 650.\n",
            "2022-09-20 20:18:46 [INFO]\t[TRAIN] epoch: 5, iter: 710/1000, loss: 0.0107, lr: 0.003292, batch_cost: 0.1880, reader_cost: 0.07154, ips: 21.2720 samples/sec | ETA 00:00:54\n",
            "2022-09-20 20:18:49 [INFO]\t[TRAIN] epoch: 5, iter: 720/1000, loss: 0.0061, lr: 0.003190, batch_cost: 0.3141, reader_cost: 0.19365, ips: 12.7362 samples/sec | ETA 00:01:27\n",
            "2022-09-20 20:18:52 [INFO]\t[TRAIN] epoch: 5, iter: 730/1000, loss: 0.0091, lr: 0.003088, batch_cost: 0.3052, reader_cost: 0.18647, ips: 13.1053 samples/sec | ETA 00:01:22\n",
            "2022-09-20 20:18:55 [INFO]\t[TRAIN] epoch: 5, iter: 740/1000, loss: 0.0154, lr: 0.002985, batch_cost: 0.3135, reader_cost: 0.19602, ips: 12.7592 samples/sec | ETA 00:01:21\n",
            "2022-09-20 20:18:58 [INFO]\t[TRAIN] epoch: 5, iter: 750/1000, loss: 0.0089, lr: 0.002882, batch_cost: 0.3092, reader_cost: 0.18920, ips: 12.9347 samples/sec | ETA 00:01:17\n",
            "2022-09-20 20:18:58 [INFO]\tStart evaluating (total_samples: 259, total_iters: 259)...\n",
            "259/259 [==============================] - 35s 136ms/step - batch_cost: 0.1355 - reader cost: 0.0911\n",
            "2022-09-20 20:19:33 [INFO]\t[EVAL] #Images: 259 mIoU: 0.5334 Acc: 0.9995 Kappa: 0.1262 Dice: 0.5630\n",
            "2022-09-20 20:19:33 [INFO]\t[EVAL] Class IoU: \n",
            "[0.9995 0.0674]\n",
            "2022-09-20 20:19:33 [INFO]\t[EVAL] Class Precision: \n",
            "[0.9995 0.8   ]\n",
            "2022-09-20 20:19:33 [INFO]\t[EVAL] Class Recall: \n",
            "[1.     0.0686]\n",
            "2022-09-20 20:19:34 [INFO]\t[EVAL] The model with the best validation mIoU (0.5334) was saved at iter 750.\n",
            "2022-09-20 20:19:36 [INFO]\t[TRAIN] epoch: 6, iter: 760/1000, loss: 0.0127, lr: 0.002779, batch_cost: 0.2136, reader_cost: 0.11026, ips: 18.7286 samples/sec | ETA 00:00:51\n",
            "2022-09-20 20:19:39 [INFO]\t[TRAIN] epoch: 6, iter: 770/1000, loss: 0.0115, lr: 0.002675, batch_cost: 0.2978, reader_cost: 0.17831, ips: 13.4307 samples/sec | ETA 00:01:08\n",
            "2022-09-20 20:19:42 [INFO]\t[TRAIN] epoch: 6, iter: 780/1000, loss: 0.0117, lr: 0.002570, batch_cost: 0.3090, reader_cost: 0.18905, ips: 12.9433 samples/sec | ETA 00:01:07\n",
            "2022-09-20 20:19:45 [INFO]\t[TRAIN] epoch: 6, iter: 790/1000, loss: 0.0063, lr: 0.002465, batch_cost: 0.3170, reader_cost: 0.19876, ips: 12.6168 samples/sec | ETA 00:01:06\n",
            "2022-09-20 20:19:48 [INFO]\t[TRAIN] epoch: 6, iter: 800/1000, loss: 0.0154, lr: 0.002360, batch_cost: 0.3187, reader_cost: 0.19863, ips: 12.5499 samples/sec | ETA 00:01:03\n",
            "2022-09-20 20:19:48 [INFO]\tStart evaluating (total_samples: 259, total_iters: 259)...\n",
            "259/259 [==============================] - 35s 135ms/step - batch_cost: 0.1346 - reader cost: 0.0902\n",
            "2022-09-20 20:20:23 [INFO]\t[EVAL] #Images: 259 mIoU: 0.5335 Acc: 0.9995 Kappa: 0.1265 Dice: 0.5631\n",
            "2022-09-20 20:20:23 [INFO]\t[EVAL] Class IoU: \n",
            "[0.9995 0.0675]\n",
            "2022-09-20 20:20:23 [INFO]\t[EVAL] Class Precision: \n",
            "[0.9995 0.7496]\n",
            "2022-09-20 20:20:23 [INFO]\t[EVAL] Class Recall: \n",
            "[1.     0.0691]\n",
            "2022-09-20 20:20:23 [INFO]\t[EVAL] The model with the best validation mIoU (0.5335) was saved at iter 800.\n",
            "2022-09-20 20:20:25 [INFO]\t[TRAIN] epoch: 6, iter: 810/1000, loss: 0.0156, lr: 0.002254, batch_cost: 0.1818, reader_cost: 0.06095, ips: 22.0014 samples/sec | ETA 00:00:34\n",
            "2022-09-20 20:20:28 [INFO]\t[TRAIN] epoch: 6, iter: 820/1000, loss: 0.0123, lr: 0.002147, batch_cost: 0.3075, reader_cost: 0.18670, ips: 13.0091 samples/sec | ETA 00:00:55\n",
            "2022-09-20 20:20:31 [INFO]\t[TRAIN] epoch: 6, iter: 830/1000, loss: 0.0201, lr: 0.002040, batch_cost: 0.3012, reader_cost: 0.18495, ips: 13.2813 samples/sec | ETA 00:00:51\n",
            "2022-09-20 20:20:34 [INFO]\t[TRAIN] epoch: 6, iter: 840/1000, loss: 0.0142, lr: 0.001933, batch_cost: 0.3054, reader_cost: 0.18723, ips: 13.0958 samples/sec | ETA 00:00:48\n",
            "2022-09-20 20:20:37 [INFO]\t[TRAIN] epoch: 6, iter: 850/1000, loss: 0.0355, lr: 0.001824, batch_cost: 0.3070, reader_cost: 0.18989, ips: 13.0310 samples/sec | ETA 00:00:46\n",
            "2022-09-20 20:20:37 [INFO]\tStart evaluating (total_samples: 259, total_iters: 259)...\n",
            "259/259 [==============================] - 35s 136ms/step - batch_cost: 0.1353 - reader cost: 0.0919\n",
            "2022-09-20 20:21:13 [INFO]\t[EVAL] #Images: 259 mIoU: 0.5567 Acc: 0.9995 Kappa: 0.2044 Dice: 0.6021\n",
            "2022-09-20 20:21:13 [INFO]\t[EVAL] Class IoU: \n",
            "[0.9995 0.1139]\n",
            "2022-09-20 20:21:13 [INFO]\t[EVAL] Class Precision: \n",
            "[0.9995 0.7365]\n",
            "2022-09-20 20:21:13 [INFO]\t[EVAL] Class Recall: \n",
            "[1.     0.1187]\n",
            "2022-09-20 20:21:13 [INFO]\t[EVAL] The model with the best validation mIoU (0.5567) was saved at iter 850.\n",
            "2022-09-20 20:21:15 [INFO]\t[TRAIN] epoch: 6, iter: 860/1000, loss: 0.0102, lr: 0.001715, batch_cost: 0.1852, reader_cost: 0.07044, ips: 21.6003 samples/sec | ETA 00:00:25\n",
            "2022-09-20 20:21:18 [INFO]\t[TRAIN] epoch: 6, iter: 870/1000, loss: 0.0236, lr: 0.001605, batch_cost: 0.2999, reader_cost: 0.17635, ips: 13.3357 samples/sec | ETA 00:00:38\n",
            "2022-09-20 20:21:21 [INFO]\t[TRAIN] epoch: 6, iter: 880/1000, loss: 0.0093, lr: 0.001495, batch_cost: 0.3124, reader_cost: 0.19323, ips: 12.8061 samples/sec | ETA 00:00:37\n",
            "2022-09-20 20:21:24 [INFO]\t[TRAIN] epoch: 6, iter: 890/1000, loss: 0.0131, lr: 0.001383, batch_cost: 0.3056, reader_cost: 0.18690, ips: 13.0887 samples/sec | ETA 00:00:33\n",
            "2022-09-20 20:21:27 [INFO]\t[TRAIN] epoch: 6, iter: 900/1000, loss: 0.0336, lr: 0.001270, batch_cost: 0.3073, reader_cost: 0.18756, ips: 13.0162 samples/sec | ETA 00:00:30\n",
            "2022-09-20 20:21:27 [INFO]\tStart evaluating (total_samples: 259, total_iters: 259)...\n",
            "259/259 [==============================] - 35s 136ms/step - batch_cost: 0.1354 - reader cost: 0.0915\n",
            "2022-09-20 20:22:02 [INFO]\t[EVAL] #Images: 259 mIoU: 0.5768 Acc: 0.9995 Kappa: 0.2670 Dice: 0.6334\n",
            "2022-09-20 20:22:02 [INFO]\t[EVAL] Class IoU: \n",
            "[0.9995 0.1542]\n",
            "2022-09-20 20:22:02 [INFO]\t[EVAL] Class Precision: \n",
            "[0.9995 0.7146]\n",
            "2022-09-20 20:22:02 [INFO]\t[EVAL] Class Recall: \n",
            "[1.     0.1643]\n",
            "2022-09-20 20:22:03 [INFO]\t[EVAL] The model with the best validation mIoU (0.5768) was saved at iter 900.\n",
            "2022-09-20 20:22:05 [INFO]\t[TRAIN] epoch: 7, iter: 910/1000, loss: 0.0123, lr: 0.001156, batch_cost: 0.2045, reader_cost: 0.09027, ips: 19.5576 samples/sec | ETA 00:00:18\n",
            "2022-09-20 20:22:08 [INFO]\t[TRAIN] epoch: 7, iter: 920/1000, loss: 0.0228, lr: 0.001041, batch_cost: 0.3023, reader_cost: 0.18293, ips: 13.2330 samples/sec | ETA 00:00:24\n",
            "2022-09-20 20:22:11 [INFO]\t[TRAIN] epoch: 7, iter: 930/1000, loss: 0.0098, lr: 0.000925, batch_cost: 0.3072, reader_cost: 0.18865, ips: 13.0211 samples/sec | ETA 00:00:21\n",
            "2022-09-20 20:22:14 [INFO]\t[TRAIN] epoch: 7, iter: 940/1000, loss: 0.0267, lr: 0.000807, batch_cost: 0.3083, reader_cost: 0.19009, ips: 12.9732 samples/sec | ETA 00:00:18\n",
            "2022-09-20 20:22:17 [INFO]\t[TRAIN] epoch: 7, iter: 950/1000, loss: 0.0115, lr: 0.000687, batch_cost: 0.3099, reader_cost: 0.18870, ips: 12.9069 samples/sec | ETA 00:00:15\n",
            "2022-09-20 20:22:17 [INFO]\tStart evaluating (total_samples: 259, total_iters: 259)...\n",
            "259/259 [==============================] - 35s 136ms/step - batch_cost: 0.1361 - reader cost: 0.0919\n",
            "2022-09-20 20:22:52 [INFO]\t[EVAL] #Images: 259 mIoU: 0.6014 Acc: 0.9995 Kappa: 0.3376 Dice: 0.6688\n",
            "2022-09-20 20:22:52 [INFO]\t[EVAL] Class IoU: \n",
            "[0.9995 0.2032]\n",
            "2022-09-20 20:22:52 [INFO]\t[EVAL] Class Precision: \n",
            "[0.9996 0.7014]\n",
            "2022-09-20 20:22:52 [INFO]\t[EVAL] Class Recall: \n",
            "[0.9999 0.2225]\n",
            "2022-09-20 20:22:53 [INFO]\t[EVAL] The model with the best validation mIoU (0.6014) was saved at iter 950.\n",
            "2022-09-20 20:22:55 [INFO]\t[TRAIN] epoch: 7, iter: 960/1000, loss: 0.0084, lr: 0.000564, batch_cost: 0.1916, reader_cost: 0.07542, ips: 20.8789 samples/sec | ETA 00:00:07\n",
            "2022-09-20 20:22:58 [INFO]\t[TRAIN] epoch: 7, iter: 970/1000, loss: 0.0105, lr: 0.000439, batch_cost: 0.3115, reader_cost: 0.19112, ips: 12.8391 samples/sec | ETA 00:00:09\n",
            "2022-09-20 20:23:01 [INFO]\t[TRAIN] epoch: 7, iter: 980/1000, loss: 0.0136, lr: 0.000309, batch_cost: 0.3064, reader_cost: 0.18840, ips: 13.0569 samples/sec | ETA 00:00:06\n",
            "2022-09-20 20:23:04 [INFO]\t[TRAIN] epoch: 7, iter: 990/1000, loss: 0.0127, lr: 0.000173, batch_cost: 0.3096, reader_cost: 0.19152, ips: 12.9204 samples/sec | ETA 00:00:03\n",
            "2022-09-20 20:23:07 [INFO]\t[TRAIN] epoch: 7, iter: 1000/1000, loss: 0.0131, lr: 0.000020, batch_cost: 0.3157, reader_cost: 0.19652, ips: 12.6702 samples/sec | ETA 00:00:00\n",
            "2022-09-20 20:23:07 [INFO]\tStart evaluating (total_samples: 259, total_iters: 259)...\n",
            "259/259 [==============================] - 36s 137ms/step - batch_cost: 0.1369 - reader cost: 0.0928\n",
            "2022-09-20 20:23:43 [INFO]\t[EVAL] #Images: 259 mIoU: 0.5626 Acc: 0.9995 Kappa: 0.2232 Dice: 0.6115\n",
            "2022-09-20 20:23:43 [INFO]\t[EVAL] Class IoU: \n",
            "[0.9995 0.1257]\n",
            "2022-09-20 20:23:43 [INFO]\t[EVAL] Class Precision: \n",
            "[0.9995 0.7581]\n",
            "2022-09-20 20:23:43 [INFO]\t[EVAL] Class Recall: \n",
            "[1.    0.131]\n",
            "2022-09-20 20:23:43 [INFO]\t[EVAL] The model with the best validation mIoU (0.6014) was saved at iter 950.\n",
            "<class 'paddle.nn.layer.conv.Conv2D'>'s flops has been counted\n",
            "<class 'paddle.nn.layer.norm.BatchNorm2D'>'s flops has been counted\n",
            "<class 'paddle.nn.layer.activation.ReLU'>'s flops has been counted\n",
            "<class 'paddle.nn.layer.pooling.AvgPool2D'>'s flops has been counted\n",
            "<class 'paddle.nn.layer.pooling.AdaptiveAvgPool2D'>'s flops has been counted\n",
            "Total Flops: 9643807616     Total Params: 12251410\n"
          ]
        }
      ]
    },
    {
      "cell_type": "markdown",
      "source": [
        "# Validation"
      ],
      "metadata": {
        "id": "YJz9Np1FgwhO"
      }
    },
    {
      "cell_type": "code",
      "source": [
        "!python val.py \\\n",
        "       --config configs/quick_start/pp_liteseg_optic_disc_512x512_1k.yml \\\n",
        "       --model_path output/best_model/model.pdparams"
      ],
      "metadata": {
        "colab": {
          "base_uri": "https://localhost:8080/"
        },
        "id": "RSiQMNNig4hw",
        "outputId": "d5300b4f-11c4-4445-e5f2-bb1ca5e2b1c0"
      },
      "execution_count": 34,
      "outputs": [
        {
          "output_type": "stream",
          "name": "stdout",
          "text": [
            "2022-09-20 20:24:04 [INFO]\t\n",
            "---------------Config Information---------------\n",
            "batch_size: 4\n",
            "iters: 1000\n",
            "loss:\n",
            "  coef:\n",
            "  - 1\n",
            "  - 1\n",
            "  - 1\n",
            "  types:\n",
            "  - type: CrossEntropyLoss\n",
            "lr_scheduler:\n",
            "  end_lr: 0\n",
            "  learning_rate: 0.01\n",
            "  power: 0.9\n",
            "  type: PolynomialDecay\n",
            "model:\n",
            "  backbone:\n",
            "    pretrained: https://bj.bcebos.com/paddleseg/dygraph/PP_STDCNet2.tar.gz\n",
            "    type: STDC2\n",
            "  type: PPLiteSeg\n",
            "optimizer:\n",
            "  momentum: 0.9\n",
            "  type: sgd\n",
            "  weight_decay: 4.0e-05\n",
            "train_dataset:\n",
            "  dataset_root: /content/PaddleSeg/custom_dataset\n",
            "  mode: train\n",
            "  num_classes: 2\n",
            "  train_path: /content/PaddleSeg/custom_dataset/train.txt\n",
            "  transforms:\n",
            "  - max_scale_factor: 2.0\n",
            "    min_scale_factor: 0.5\n",
            "    scale_step_size: 0.25\n",
            "    type: ResizeStepScaling\n",
            "  - crop_size:\n",
            "    - 512\n",
            "    - 512\n",
            "    type: RandomPaddingCrop\n",
            "  - type: RandomHorizontalFlip\n",
            "  - brightness_range: 0.5\n",
            "    contrast_range: 0.5\n",
            "    saturation_range: 0.5\n",
            "    type: RandomDistort\n",
            "  - type: Normalize\n",
            "  type: Dataset\n",
            "val_dataset:\n",
            "  dataset_root: /content/PaddleSeg/custom_dataset\n",
            "  mode: val\n",
            "  num_classes: 2\n",
            "  transforms:\n",
            "  - type: Normalize\n",
            "  type: Dataset\n",
            "  val_path: /content/PaddleSeg/custom_dataset/val.txt\n",
            "------------------------------------------------\n",
            "W0920 20:24:04.025977   903 gpu_resources.cc:61] Please NOTE: device: 0, GPU Compute Capability: 7.5, Driver API Version: 11.2, Runtime API Version: 10.2\n",
            "W0920 20:24:04.026010   903 gpu_resources.cc:91] device: 0, cuDNN Version: 7.6.\n",
            "2022-09-20 20:24:04 [INFO]\tLoading pretrained model from https://bj.bcebos.com/paddleseg/dygraph/PP_STDCNet2.tar.gz\n",
            "2022-09-20 20:24:05 [INFO]\tThere are 265/265 variables loaded into STDCNet.\n",
            "2022-09-20 20:24:05 [INFO]\tLoading pretrained model from output/best_model/model.pdparams\n",
            "2022-09-20 20:24:05 [INFO]\tThere are 367/367 variables loaded into PPLiteSeg.\n",
            "2022-09-20 20:24:05 [INFO]\tLoaded trained params of model successfully\n",
            "2022-09-20 20:24:05 [INFO]\tStart evaluating (total_samples: 259, total_iters: 259)...\n",
            "259/259 [==============================] - 33s 129ms/step - batch_cost: 0.1285 - reader cost: 0.0813\n",
            "2022-09-20 20:24:38 [INFO]\t[EVAL] #Images: 259 mIoU: 0.6014 Acc: 0.9995 Kappa: 0.3376 Dice: 0.6688\n",
            "2022-09-20 20:24:38 [INFO]\t[EVAL] Class IoU: \n",
            "[0.9995 0.2032]\n",
            "2022-09-20 20:24:38 [INFO]\t[EVAL] Class Precision: \n",
            "[0.9996 0.7014]\n",
            "2022-09-20 20:24:38 [INFO]\t[EVAL] Class Recall: \n",
            "[0.9999 0.2225]\n"
          ]
        }
      ]
    },
    {
      "cell_type": "markdown",
      "source": [
        "# Predict"
      ],
      "metadata": {
        "id": "KmG7ETYPhfpc"
      }
    },
    {
      "cell_type": "code",
      "source": [
        "!python predict.py \\\n",
        "       --config configs/quick_start/pp_liteseg_optic_disc_512x512_1k.yml \\\n",
        "       --model_path output/best_model/model.pdparams \\\n",
        "       --image_path /content/PaddleSeg/custom_dataset/images \\\n",
        "       --save_dir output/result"
      ],
      "metadata": {
        "colab": {
          "base_uri": "https://localhost:8080/"
        },
        "id": "h2xmHPw1hiak",
        "outputId": "39b22938-85da-400c-ae46-99849ad30532"
      },
      "execution_count": 35,
      "outputs": [
        {
          "output_type": "stream",
          "name": "stdout",
          "text": [
            "2022-09-20 20:25:12 [INFO]\t\n",
            "---------------Config Information---------------\n",
            "batch_size: 4\n",
            "iters: 1000\n",
            "loss:\n",
            "  coef:\n",
            "  - 1\n",
            "  - 1\n",
            "  - 1\n",
            "  types:\n",
            "  - type: CrossEntropyLoss\n",
            "lr_scheduler:\n",
            "  end_lr: 0\n",
            "  learning_rate: 0.01\n",
            "  power: 0.9\n",
            "  type: PolynomialDecay\n",
            "model:\n",
            "  backbone:\n",
            "    pretrained: https://bj.bcebos.com/paddleseg/dygraph/PP_STDCNet2.tar.gz\n",
            "    type: STDC2\n",
            "  type: PPLiteSeg\n",
            "optimizer:\n",
            "  momentum: 0.9\n",
            "  type: sgd\n",
            "  weight_decay: 4.0e-05\n",
            "train_dataset:\n",
            "  dataset_root: /content/PaddleSeg/custom_dataset\n",
            "  mode: train\n",
            "  num_classes: 2\n",
            "  train_path: /content/PaddleSeg/custom_dataset/train.txt\n",
            "  transforms:\n",
            "  - max_scale_factor: 2.0\n",
            "    min_scale_factor: 0.5\n",
            "    scale_step_size: 0.25\n",
            "    type: ResizeStepScaling\n",
            "  - crop_size:\n",
            "    - 512\n",
            "    - 512\n",
            "    type: RandomPaddingCrop\n",
            "  - type: RandomHorizontalFlip\n",
            "  - brightness_range: 0.5\n",
            "    contrast_range: 0.5\n",
            "    saturation_range: 0.5\n",
            "    type: RandomDistort\n",
            "  - type: Normalize\n",
            "  type: Dataset\n",
            "val_dataset:\n",
            "  dataset_root: /content/PaddleSeg/custom_dataset\n",
            "  mode: val\n",
            "  num_classes: 2\n",
            "  transforms:\n",
            "  - type: Normalize\n",
            "  type: Dataset\n",
            "  val_path: /content/PaddleSeg/custom_dataset/val.txt\n",
            "------------------------------------------------\n",
            "W0920 20:25:12.366494   947 gpu_resources.cc:61] Please NOTE: device: 0, GPU Compute Capability: 7.5, Driver API Version: 11.2, Runtime API Version: 10.2\n",
            "W0920 20:25:12.366533   947 gpu_resources.cc:91] device: 0, cuDNN Version: 7.6.\n",
            "2022-09-20 20:25:13 [INFO]\tLoading pretrained model from https://bj.bcebos.com/paddleseg/dygraph/PP_STDCNet2.tar.gz\n",
            "2022-09-20 20:25:13 [INFO]\tThere are 265/265 variables loaded into STDCNet.\n",
            "2022-09-20 20:25:13 [INFO]\tNumber of predict images = 864\n",
            "2022-09-20 20:25:13 [INFO]\tLoading pretrained model from output/best_model/model.pdparams\n",
            "2022-09-20 20:25:13 [INFO]\tThere are 367/367 variables loaded into PPLiteSeg.\n",
            "2022-09-20 20:25:13 [INFO]\tStart to predict...\n",
            "864/864 [==============================] - 221s 255ms/step\n"
          ]
        }
      ]
    },
    {
      "cell_type": "markdown",
      "source": [
        "# Model Export"
      ],
      "metadata": {
        "id": "qLPz6qIKlDX_"
      }
    },
    {
      "cell_type": "code",
      "source": [
        "!python export.py \\\n",
        "       --config configs/quick_start/pp_liteseg_optic_disc_512x512_1k.yml \\\n",
        "       --model_path output/best_model/model.pdparams \\\n",
        "       --save_dir output/infer_model"
      ],
      "metadata": {
        "colab": {
          "base_uri": "https://localhost:8080/"
        },
        "id": "R6aZ_CwmlFyK",
        "outputId": "e13d3772-66d7-4c28-e9ae-bf3734f05a55"
      },
      "execution_count": 36,
      "outputs": [
        {
          "output_type": "stream",
          "name": "stdout",
          "text": [
            "W0920 20:30:39.776455  1210 gpu_resources.cc:61] Please NOTE: device: 0, GPU Compute Capability: 7.5, Driver API Version: 11.2, Runtime API Version: 10.2\n",
            "W0920 20:30:39.781251  1210 gpu_resources.cc:91] device: 0, cuDNN Version: 7.6.\n",
            "2022-09-20 20:30:40 [INFO]\tLoading pretrained model from https://bj.bcebos.com/paddleseg/dygraph/PP_STDCNet2.tar.gz\n",
            "2022-09-20 20:30:40 [INFO]\tThere are 265/265 variables loaded into STDCNet.\n",
            "2022-09-20 20:30:40 [INFO]\tLoaded trained params of model successfully.\n",
            "/usr/local/lib/python3.7/dist-packages/paddle/fluid/layers/math_op_patch.py:341: UserWarning: /tmp/tmp1mgptu4w.py:26\n",
            "The behavior of expression A + B has been unified with elementwise_add(X, Y, axis=-1) from Paddle 2.0. If your code works well in the older versions but crashes in this version, try to use elementwise_add(X, Y, axis=0) instead of A + B. This transitional warning will be dropped in the future.\n",
            "  op_type, op_type, EXPRESSION_MAP[method_name]))\n",
            "/usr/local/lib/python3.7/dist-packages/paddle/fluid/layers/math_op_patch.py:341: UserWarning: /tmp/tmpvq6sbkh4.py:16\n",
            "The behavior of expression A * B has been unified with elementwise_mul(X, Y, axis=-1) from Paddle 2.0. If your code works well in the older versions but crashes in this version, try to use elementwise_mul(X, Y, axis=0) instead of A * B. This transitional warning will be dropped in the future.\n",
            "  op_type, op_type, EXPRESSION_MAP[method_name]))\n",
            "/usr/local/lib/python3.7/dist-packages/paddle/fluid/layers/math_op_patch.py:341: UserWarning: /tmp/tmpvq6sbkh4.py:16\n",
            "The behavior of expression A + B has been unified with elementwise_add(X, Y, axis=-1) from Paddle 2.0. If your code works well in the older versions but crashes in this version, try to use elementwise_add(X, Y, axis=0) instead of A + B. This transitional warning will be dropped in the future.\n",
            "  op_type, op_type, EXPRESSION_MAP[method_name]))\n",
            "/usr/local/lib/python3.7/dist-packages/paddle/fluid/layers/math_op_patch.py:341: UserWarning: /tmp/tmpt_njdj97.py:16\n",
            "The behavior of expression A * B has been unified with elementwise_mul(X, Y, axis=-1) from Paddle 2.0. If your code works well in the older versions but crashes in this version, try to use elementwise_mul(X, Y, axis=0) instead of A * B. This transitional warning will be dropped in the future.\n",
            "  op_type, op_type, EXPRESSION_MAP[method_name]))\n",
            "/usr/local/lib/python3.7/dist-packages/paddle/fluid/layers/math_op_patch.py:341: UserWarning: /tmp/tmpt_njdj97.py:16\n",
            "The behavior of expression A + B has been unified with elementwise_add(X, Y, axis=-1) from Paddle 2.0. If your code works well in the older versions but crashes in this version, try to use elementwise_add(X, Y, axis=0) instead of A + B. This transitional warning will be dropped in the future.\n",
            "  op_type, op_type, EXPRESSION_MAP[method_name]))\n",
            "/usr/local/lib/python3.7/dist-packages/paddle/fluid/layers/math_op_patch.py:341: UserWarning: /tmp/tmp1j_n0twp.py:16\n",
            "The behavior of expression A * B has been unified with elementwise_mul(X, Y, axis=-1) from Paddle 2.0. If your code works well in the older versions but crashes in this version, try to use elementwise_mul(X, Y, axis=0) instead of A * B. This transitional warning will be dropped in the future.\n",
            "  op_type, op_type, EXPRESSION_MAP[method_name]))\n",
            "/usr/local/lib/python3.7/dist-packages/paddle/fluid/layers/math_op_patch.py:341: UserWarning: /tmp/tmp1j_n0twp.py:16\n",
            "The behavior of expression A + B has been unified with elementwise_add(X, Y, axis=-1) from Paddle 2.0. If your code works well in the older versions but crashes in this version, try to use elementwise_add(X, Y, axis=0) instead of A + B. This transitional warning will be dropped in the future.\n",
            "  op_type, op_type, EXPRESSION_MAP[method_name]))\n",
            "2022-09-20 20:30:43 [INFO]\tModel is saved in output/infer_model.\n"
          ]
        }
      ]
    },
    {
      "cell_type": "code",
      "source": [
        "zipDir(\"/content/PaddleSeg/output/infer_model\", '/content/drive/MyDrive/Abschlussarbeit/modelErgebnis/infer_model.zip')"
      ],
      "metadata": {
        "id": "YhEB81iclNw_"
      },
      "execution_count": 37,
      "outputs": []
    },
    {
      "cell_type": "markdown",
      "source": [
        "# Command"
      ],
      "metadata": {
        "id": "4EjR2MTDXy0O"
      }
    },
    {
      "cell_type": "code",
      "source": [
        "shutil.rmtree('/content/PaddleSeg/custom_dataset')"
      ],
      "metadata": {
        "id": "bNEZZJs7X1BD"
      },
      "execution_count": 21,
      "outputs": []
    }
  ]
}